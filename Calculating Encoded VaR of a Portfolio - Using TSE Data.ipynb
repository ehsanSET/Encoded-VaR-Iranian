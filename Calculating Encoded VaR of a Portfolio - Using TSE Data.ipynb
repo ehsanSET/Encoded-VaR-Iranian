{
 "cells": [
  {
   "cell_type": "markdown",
   "metadata": {},
   "source": [
    "# Encoded Value-at-Risk\n",
    "\n",
    "In this notebook, we are going to calculate Value-at-Risk (VaR) for a portfolio of stocks listed on Tehran Stock Exchange (TSE) using Encoded VaR technique proposed by Ehsan Tabatabaei with supervision of Dr. Hamidreza Arian in a Master's thesis at Khatam University.\n",
    "\n",
    "**Table of Contents:**\n",
    "\n",
    "* [1.Data Preprocessing](#section1)\n",
    "    * [1.1 Splitting the Data](#section3)\n",
    "    * [1.2 Data Normalization](#section2)\n",
    "* [2.Model Definition](#section4)\n",
    "    * [2.1 Encoder Network](#section5)\n",
    "    * [2.2 Decoder Network](#section6)\n",
    "    * [2.3 Loss Function](#section7)\n",
    "* [3 Training the Model](#section8)\n",
    "* [4 Testing the Model](#section9)\n",
    "    * [4.1 Loss Graph](#section10)\n",
    "* [5.Calculating Encoded VaR](#section11)\n",
    "    * [5.1 Scale and Volatility Forecast](#section12)\n",
    "    * [5.2 Encoding the Shape of uncertainty](#section14)\n",
    "    * [5.3 Imposing the Mean and the STD](#section15)\n",
    "* [6.Calculating VaR and CVaR of Benchmark Models](#section16)\n",
    "    * [6.1 Historical Simulation](#section24)\n",
    "    * [6.3 Monte Carlo Simulation](#section38)\n",
    "* [7.Backtesting the Resulted Values](#section17)\n",
    "    * [7.1 Backtesting Encoded VaR](#section18)\n",
    "        * [7.1.1 Actual Returns vs Forecsted VaR Plot](#section19)\n",
    "        * [7.1.2 Statistival Tests of Christoffersson's Method](#section20)\n",
    "        * [7.1.3 Lopez Loss Function](#section50)\n",
    "    * [7.2 Backtesting Historical Simulation](#section25)\n",
    "        * [7.2.1 Actual Returns vs Forecsted VaR Plot](#section26)\n",
    "        * [7.2.2 Statistival Tests of Christoffersson's Method](#section27)\n",
    "        * [7.2.3 Lopez Loss Function](#section70)\n",
    "    * [7.3 Backtesting Monte Carlo Simulation](#section39)\n",
    "        * [7.3.1 Actual Returns vs Forecsted VaR Plot](#section40)\n",
    "        * [7.3.2 Statistival Tests of Christoffersson's Method](#section41)\n",
    "        * [7.3.3 Lopez Loss Function](#section60)\n",
    "* [8.Sum Up](#section45)"
   ]
  },
  {
   "cell_type": "code",
   "execution_count": 1,
   "metadata": {},
   "outputs": [
    {
     "name": "stderr",
     "output_type": "stream",
     "text": [
      "Using TensorFlow backend.\n"
     ]
    }
   ],
   "source": [
    "## Importing necessary modules:\n",
    "import numpy as np\n",
    "import pandas as pd\n",
    "from matplotlib import pyplot as plt\n",
    "import os\n",
    "import seaborn as sns;sns.set_style(\"whitegrid\")\n",
    "from keras.layers import Dense, Lambda, LeakyReLU\n",
    "import keras.backend as K\n",
    "from keras.models import Model, Input\n",
    "from keras.regularizers import l1_l2\n",
    "from keras.optimizers import adam\n",
    "from keras.losses import mse\n",
    "from keras.callbacks import ReduceLROnPlateau, EarlyStopping, ModelCheckpoint\n",
    "from IPython.core.display import SVG\n",
    "from arch.univariate import GARCH, ARX\n",
    "from arch import arch_model\n",
    "from statsmodels.tsa.arima_model import ARIMA\n",
    "from pandas import read_csv\n",
    "from statsmodels.tsa.stattools import adfuller\n",
    "from statsmodels.graphics.tsaplots import plot_acf, plot_pacf\n",
    "from statsmodels.graphics.gofplots import qqplot\n",
    "from BackTest import Backtest\n",
    "from scipy import stats\n",
    "from datetime import datetime, timedelta\n",
    "from random import sample\n",
    "import time"
   ]
  },
  {
   "cell_type": "code",
   "execution_count": 2,
   "metadata": {},
   "outputs": [],
   "source": [
    "def parse(datestr):\n",
    "    return datetime.strptime(datestr, '%m/%d/%Y')"
   ]
  },
  {
   "cell_type": "code",
   "execution_count": 6,
   "metadata": {},
   "outputs": [
    {
     "data": {
      "text/html": [
       "<div>\n",
       "<style scoped>\n",
       "    .dataframe tbody tr th:only-of-type {\n",
       "        vertical-align: middle;\n",
       "    }\n",
       "\n",
       "    .dataframe tbody tr th {\n",
       "        vertical-align: top;\n",
       "    }\n",
       "\n",
       "    .dataframe thead th {\n",
       "        text-align: right;\n",
       "    }\n",
       "</style>\n",
       "<table border=\"1\" class=\"dataframe\">\n",
       "  <thead>\n",
       "    <tr style=\"text-align: right;\">\n",
       "      <th></th>\n",
       "      <th>همراه</th>\n",
       "      <th>شفارس</th>\n",
       "      <th>سخاش</th>\n",
       "      <th>پلوله</th>\n",
       "      <th>شبهرن</th>\n",
       "      <th>والبر</th>\n",
       "      <th>خفنر</th>\n",
       "      <th>شپترو</th>\n",
       "      <th>ملت</th>\n",
       "      <th>ثاخت</th>\n",
       "      <th>...</th>\n",
       "      <th>حکشتی</th>\n",
       "      <th>واعتبار</th>\n",
       "      <th>وپارس</th>\n",
       "      <th>دعبید</th>\n",
       "      <th>حفاری</th>\n",
       "      <th>شدوص</th>\n",
       "      <th>چنوپا</th>\n",
       "      <th>ثفارس</th>\n",
       "      <th>دتهران</th>\n",
       "      <th>فایرا</th>\n",
       "    </tr>\n",
       "    <tr>\n",
       "      <th>date</th>\n",
       "      <th></th>\n",
       "      <th></th>\n",
       "      <th></th>\n",
       "      <th></th>\n",
       "      <th></th>\n",
       "      <th></th>\n",
       "      <th></th>\n",
       "      <th></th>\n",
       "      <th></th>\n",
       "      <th></th>\n",
       "      <th></th>\n",
       "      <th></th>\n",
       "      <th></th>\n",
       "      <th></th>\n",
       "      <th></th>\n",
       "      <th></th>\n",
       "      <th></th>\n",
       "      <th></th>\n",
       "      <th></th>\n",
       "      <th></th>\n",
       "      <th></th>\n",
       "    </tr>\n",
       "  </thead>\n",
       "  <tbody>\n",
       "    <tr>\n",
       "      <td>2010-03-28</td>\n",
       "      <td>0.0</td>\n",
       "      <td>0.0</td>\n",
       "      <td>0.000000</td>\n",
       "      <td>0.0</td>\n",
       "      <td>0.0</td>\n",
       "      <td>-0.008699</td>\n",
       "      <td>0.000743</td>\n",
       "      <td>0.012985</td>\n",
       "      <td>0.0</td>\n",
       "      <td>0.000000</td>\n",
       "      <td>...</td>\n",
       "      <td>-0.014887</td>\n",
       "      <td>0.0</td>\n",
       "      <td>0.021178</td>\n",
       "      <td>0.017083</td>\n",
       "      <td>0.018526</td>\n",
       "      <td>0.000000</td>\n",
       "      <td>0.0</td>\n",
       "      <td>0.000000</td>\n",
       "      <td>0.0</td>\n",
       "      <td>0.0</td>\n",
       "    </tr>\n",
       "    <tr>\n",
       "      <td>2010-03-29</td>\n",
       "      <td>0.0</td>\n",
       "      <td>0.0</td>\n",
       "      <td>0.000000</td>\n",
       "      <td>0.0</td>\n",
       "      <td>0.0</td>\n",
       "      <td>0.019798</td>\n",
       "      <td>0.000000</td>\n",
       "      <td>0.000518</td>\n",
       "      <td>0.0</td>\n",
       "      <td>0.000000</td>\n",
       "      <td>...</td>\n",
       "      <td>0.009956</td>\n",
       "      <td>0.0</td>\n",
       "      <td>0.002775</td>\n",
       "      <td>0.000000</td>\n",
       "      <td>-0.001834</td>\n",
       "      <td>0.000000</td>\n",
       "      <td>0.0</td>\n",
       "      <td>0.000000</td>\n",
       "      <td>0.0</td>\n",
       "      <td>0.0</td>\n",
       "    </tr>\n",
       "    <tr>\n",
       "      <td>2010-03-30</td>\n",
       "      <td>0.0</td>\n",
       "      <td>0.0</td>\n",
       "      <td>0.000000</td>\n",
       "      <td>0.0</td>\n",
       "      <td>0.0</td>\n",
       "      <td>-0.013194</td>\n",
       "      <td>0.008831</td>\n",
       "      <td>-0.000251</td>\n",
       "      <td>0.0</td>\n",
       "      <td>0.000000</td>\n",
       "      <td>...</td>\n",
       "      <td>0.005426</td>\n",
       "      <td>0.0</td>\n",
       "      <td>-0.009917</td>\n",
       "      <td>0.000000</td>\n",
       "      <td>0.003665</td>\n",
       "      <td>-0.035684</td>\n",
       "      <td>0.0</td>\n",
       "      <td>0.000000</td>\n",
       "      <td>0.0</td>\n",
       "      <td>0.0</td>\n",
       "    </tr>\n",
       "    <tr>\n",
       "      <td>2010-03-31</td>\n",
       "      <td>0.0</td>\n",
       "      <td>0.0</td>\n",
       "      <td>0.000000</td>\n",
       "      <td>0.0</td>\n",
       "      <td>0.0</td>\n",
       "      <td>0.018011</td>\n",
       "      <td>0.000000</td>\n",
       "      <td>0.000000</td>\n",
       "      <td>0.0</td>\n",
       "      <td>0.000000</td>\n",
       "      <td>...</td>\n",
       "      <td>-0.015382</td>\n",
       "      <td>0.0</td>\n",
       "      <td>0.007536</td>\n",
       "      <td>0.001129</td>\n",
       "      <td>-0.002937</td>\n",
       "      <td>0.000000</td>\n",
       "      <td>0.0</td>\n",
       "      <td>0.000000</td>\n",
       "      <td>0.0</td>\n",
       "      <td>0.0</td>\n",
       "    </tr>\n",
       "    <tr>\n",
       "      <td>2010-04-03</td>\n",
       "      <td>0.0</td>\n",
       "      <td>0.0</td>\n",
       "      <td>0.009486</td>\n",
       "      <td>0.0</td>\n",
       "      <td>0.0</td>\n",
       "      <td>0.008885</td>\n",
       "      <td>0.033877</td>\n",
       "      <td>0.040470</td>\n",
       "      <td>0.0</td>\n",
       "      <td>0.000468</td>\n",
       "      <td>...</td>\n",
       "      <td>0.043061</td>\n",
       "      <td>0.0</td>\n",
       "      <td>0.029990</td>\n",
       "      <td>0.000000</td>\n",
       "      <td>0.043161</td>\n",
       "      <td>0.000000</td>\n",
       "      <td>0.0</td>\n",
       "      <td>0.003056</td>\n",
       "      <td>0.0</td>\n",
       "      <td>0.0</td>\n",
       "    </tr>\n",
       "  </tbody>\n",
       "</table>\n",
       "<p>5 rows × 331 columns</p>\n",
       "</div>"
      ],
      "text/plain": [
       "            همراه  شفارس      سخاش  پلوله  شبهرن     والبر      خفنر  \\\n",
       "date                                                                   \n",
       "2010-03-28    0.0    0.0  0.000000    0.0    0.0 -0.008699  0.000743   \n",
       "2010-03-29    0.0    0.0  0.000000    0.0    0.0  0.019798  0.000000   \n",
       "2010-03-30    0.0    0.0  0.000000    0.0    0.0 -0.013194  0.008831   \n",
       "2010-03-31    0.0    0.0  0.000000    0.0    0.0  0.018011  0.000000   \n",
       "2010-04-03    0.0    0.0  0.009486    0.0    0.0  0.008885  0.033877   \n",
       "\n",
       "               شپترو  ملت      ثاخت  ...     حکشتی  واعتبار     وپارس  \\\n",
       "date                                 ...                                \n",
       "2010-03-28  0.012985  0.0  0.000000  ... -0.014887      0.0  0.021178   \n",
       "2010-03-29  0.000518  0.0  0.000000  ...  0.009956      0.0  0.002775   \n",
       "2010-03-30 -0.000251  0.0  0.000000  ...  0.005426      0.0 -0.009917   \n",
       "2010-03-31  0.000000  0.0  0.000000  ... -0.015382      0.0  0.007536   \n",
       "2010-04-03  0.040470  0.0  0.000468  ...  0.043061      0.0  0.029990   \n",
       "\n",
       "               دعبید     حفاری      شدوص  چنوپا     ثفارس  دتهران  فایرا  \n",
       "date                                                                      \n",
       "2010-03-28  0.017083  0.018526  0.000000    0.0  0.000000     0.0    0.0  \n",
       "2010-03-29  0.000000 -0.001834  0.000000    0.0  0.000000     0.0    0.0  \n",
       "2010-03-30  0.000000  0.003665 -0.035684    0.0  0.000000     0.0    0.0  \n",
       "2010-03-31  0.001129 -0.002937  0.000000    0.0  0.000000     0.0    0.0  \n",
       "2010-04-03  0.000000  0.043161  0.000000    0.0  0.003056     0.0    0.0  \n",
       "\n",
       "[5 rows x 331 columns]"
      ]
     },
     "execution_count": 6,
     "metadata": {},
     "output_type": "execute_result"
    }
   ],
   "source": [
    "## Importing input returns:\n",
    "rets = pd.read_csv(\"returns2.csv\", header=0, index_col=0, encoding=\"utf-8\", date_parser=parse, parse_dates=[0])\n",
    "rets.head()"
   ]
  },
  {
   "cell_type": "code",
   "execution_count": 7,
   "metadata": {},
   "outputs": [
    {
     "data": {
      "text/plain": [
       "False"
      ]
     },
     "execution_count": 7,
     "metadata": {},
     "output_type": "execute_result"
    }
   ],
   "source": [
    "rets.isnull().any().any()"
   ]
  },
  {
   "cell_type": "markdown",
   "metadata": {},
   "source": [
    "<a id='section1'></a>\n",
    "# 1.Data Preprocessing"
   ]
  },
  {
   "cell_type": "markdown",
   "metadata": {},
   "source": [
    "<a id='section3'></a>\n",
    "## 1.1 Splitting the data:\n",
    "\n",
    "When the model is trained, we need to see if it's working as expected or not. To do so, before training the model we keep a bunch of the data as our test set to use it afterwards. Edditionally, while training the model we should know how accurate or false is the model going to be. So, we keep another set called validation set to use it then."
   ]
  },
  {
   "cell_type": "code",
   "execution_count": 8,
   "metadata": {},
   "outputs": [
    {
     "name": "stdout",
     "output_type": "stream",
     "text": [
      "(3195, 331)\n",
      "(685, 331)\n",
      "(685, 331)\n"
     ]
    }
   ],
   "source": [
    "## Split the data:\n",
    "raw_data = rets\n",
    "train_pct, valid_pct = 0.7, 0.15\n",
    "n = raw_data.shape[0]\n",
    "n_train = np.floor(n * train_pct)\n",
    "n_valid = np.floor(n * (train_pct + valid_pct))\n",
    "train_set = raw_data.values[:int(n_train), :]\n",
    "valid_set = raw_data.values[int(n_train):int(n_valid), :]\n",
    "test_set = raw_data.values[int(n_valid):, :]\n",
    "train_idx = rets.index[:int(n_train)]\n",
    "valid_idx = rets.index[int(n_train):int(n_valid)]\n",
    "test_idx = rets.index[int(n_valid):]\n",
    "print(train_set.shape)\n",
    "print(valid_set.shape)\n",
    "print(test_set.shape)"
   ]
  },
  {
   "cell_type": "markdown",
   "metadata": {},
   "source": [
    "<a id='section2'></a>\n",
    "## 1.2 Data Normalization\n",
    "\n",
    "Due to the fact that neural networks can't handle data scales, when working with these models we consider re-scaling the data between 0 and 1 so that all our data would be the same for the model. Here, we use MinMaxScale to do so."
   ]
  },
  {
   "cell_type": "code",
   "execution_count": 9,
   "metadata": {},
   "outputs": [],
   "source": [
    "Max = np.max(train_set, axis=0)\n",
    "Min = np.min(train_set, axis=0)\n",
    "train_set = (train_set - Min) / (Max - Min)\n",
    "test_set = (test_set - Min) / (Max - Min)\n",
    "valid_set = (valid_set - Min) / (Max - Min)"
   ]
  },
  {
   "cell_type": "code",
   "execution_count": 10,
   "metadata": {},
   "outputs": [],
   "source": [
    "## Hyperparameters:\n",
    "cols = rets.columns\n",
    "original_dim = raw_data.shape[1]\n",
    "input_shape = (original_dim,)\n",
    "intermediate_dim = 200\n",
    "# intermediate_dim2 = 100\n",
    "# intermediate_dim3 = 25\n",
    "batch_size = 64\n",
    "latent_dim = 5\n",
    "encoder_layer1_l1=encoder_layer1_l2=decoder_layer1_l1=decoder_layer1_l2=decoder_layer2_l1=decoder_layer2_l2=decoder_layer3_l1=decoder_layer3_l2=0.0\n",
    "alpha = 5\n",
    "weights = np.ones((original_dim, 1)) / original_dim  ## equally weighted\n",
    "error = 0.05\n",
    "i = 10"
   ]
  },
  {
   "cell_type": "code",
   "execution_count": 8,
   "metadata": {},
   "outputs": [
    {
     "data": {
      "image/png": "[encoded data removed]",
      "text/plain": [
       "<Figure size 432x288 with 1 Axes>"
      ]
     },
     "metadata": {
      "needs_background": "light"
     },
     "output_type": "display_data"
    }
   ],
   "source": [
    "## kernel plot\n",
    "qqplot(rets.iloc[:,i].sample(frac=0.2, replace=True, random_state=0))\n",
    "plt.show()\n",
    "# plt.savefig(\"C:\\\\Users\\\\ehsan\\\\Desktop\\\\qqplot.svg\")"
   ]
  },
  {
   "cell_type": "code",
   "execution_count": 9,
   "metadata": {},
   "outputs": [
    {
     "data": {
      "text/plain": [
       "(20034.236807525464, 0.0)"
      ]
     },
     "execution_count": 9,
     "metadata": {},
     "output_type": "execute_result"
    }
   ],
   "source": [
    "stats.jarque_bera(rets.iloc[:,i])"
   ]
  },
  {
   "cell_type": "code",
   "execution_count": 10,
   "metadata": {},
   "outputs": [
    {
     "data": {
      "text/plain": [
       "10.26177088563184"
      ]
     },
     "execution_count": 10,
     "metadata": {},
     "output_type": "execute_result"
    }
   ],
   "source": [
    "stats.kurtosis(rets.iloc[:,i])"
   ]
  },
  {
   "cell_type": "code",
   "execution_count": 11,
   "metadata": {},
   "outputs": [
    {
     "data": {
      "text/html": [
       "<div>\n",
       "<style scoped>\n",
       "    .dataframe tbody tr th:only-of-type {\n",
       "        vertical-align: middle;\n",
       "    }\n",
       "\n",
       "    .dataframe tbody tr th {\n",
       "        vertical-align: top;\n",
       "    }\n",
       "\n",
       "    .dataframe thead th {\n",
       "        text-align: right;\n",
       "    }\n",
       "</style>\n",
       "<table border=\"1\" class=\"dataframe\">\n",
       "  <thead>\n",
       "    <tr style=\"text-align: right;\">\n",
       "      <th></th>\n",
       "      <th>ثنوسا</th>\n",
       "    </tr>\n",
       "  </thead>\n",
       "  <tbody>\n",
       "    <tr>\n",
       "      <th>count</th>\n",
       "      <td>4565.000000</td>\n",
       "    </tr>\n",
       "    <tr>\n",
       "      <th>mean</th>\n",
       "      <td>0.001100</td>\n",
       "    </tr>\n",
       "    <tr>\n",
       "      <th>std</th>\n",
       "      <td>0.030490</td>\n",
       "    </tr>\n",
       "    <tr>\n",
       "      <th>min</th>\n",
       "      <td>-0.291169</td>\n",
       "    </tr>\n",
       "    <tr>\n",
       "      <th>25%</th>\n",
       "      <td>-0.018638</td>\n",
       "    </tr>\n",
       "    <tr>\n",
       "      <th>50%</th>\n",
       "      <td>0.000000</td>\n",
       "    </tr>\n",
       "    <tr>\n",
       "      <th>75%</th>\n",
       "      <td>0.020208</td>\n",
       "    </tr>\n",
       "    <tr>\n",
       "      <th>max</th>\n",
       "      <td>0.297015</td>\n",
       "    </tr>\n",
       "  </tbody>\n",
       "</table>\n",
       "</div>"
      ],
      "text/plain": [
       "             ثنوسا\n",
       "count  4565.000000\n",
       "mean      0.001100\n",
       "std       0.030490\n",
       "min      -0.291169\n",
       "25%      -0.018638\n",
       "50%       0.000000\n",
       "75%       0.020208\n",
       "max       0.297015"
      ]
     },
     "execution_count": 11,
     "metadata": {},
     "output_type": "execute_result"
    }
   ],
   "source": [
    "pd.DataFrame(rets.iloc[:,i]).describe(include='all')"
   ]
  },
  {
   "cell_type": "markdown",
   "metadata": {},
   "source": [
    "<a id='section4'></a>\n",
    "# 2.Model Definition"
   ]
  },
  {
   "cell_type": "markdown",
   "metadata": {},
   "source": [
    "__The Architecture of the Model__\n",
    "\n",
    "The model consisted of two networks: the encoder and the decoder.\n",
    "We aim to reduce the dimension of the data in the encoder, and to increase it in the decoder.\n",
    "The input and the output of the model are the same. You can see the diagram of VAE model we use in the chart below:"
   ]
  },
  {
   "cell_type": "code",
   "execution_count": 33,
   "metadata": {
    "scrolled": false
   },
   "outputs": [
    {
     "data": {
      "image/svg+xml": [
       "<svg class=\"st14\" color-interpolation-filters=\"sRGB\" height=\"11in\" viewBox=\"0 0 612 792\" width=\"8.5in\" xml:space=\"preserve\" xmlns=\"http://www.w3.org/2000/svg\" xmlns:ev=\"http://www.w3.org/2001/xml-events\" xmlns:v=\"http://schemas.microsoft.com/visio/2003/SVGExtensions/\" xmlns:xlink=\"http://www.w3.org/1999/xlink\">\n",
       "\t<v:documentProperties v:langID=\"1033\" v:viewMarkup=\"false\">\n",
       "\t\t<v:userDefs>\n",
       "\t\t\t<v:ud v:nameU=\"msvNoAutoConnect\" v:val=\"VT0(1):26\"/>\n",
       "\t\t</v:userDefs>\n",
       "\t</v:documentProperties>\n",
       "\n",
       "\t<style type=\"text/css\">\n",
       "\t<![CDATA[\n",
       "\t\t.st1 {fill:none;stroke:none;stroke-width:0.25}\n",
       "\t\t.st2 {fill:#4672c4;font-family:Calibri;font-size:1.16666em}\n",
       "\t\t.st3 {fill:#bdd7ee;stroke:#000000;stroke-width:0.25}\n",
       "\t\t.st4 {fill:#000000;font-family:Calibri;font-size:1.00001em}\n",
       "\t\t.st5 {marker-end:url(#mrkr4-12);stroke:#4672c4;stroke-linecap:round;stroke-linejoin:round;stroke-width:1}\n",
       "\t\t.st6 {fill:#4672c4;fill-opacity:1;stroke:#4672c4;stroke-opacity:1;stroke-width:0.28409090909091}\n",
       "\t\t.st7 {fill:#fee599;stroke:#000000;stroke-width:0.25}\n",
       "\t\t.st8 {fill:#000000;font-family:Calibri;font-size:1.00001em;font-weight:bold}\n",
       "\t\t.st9 {font-size:1em;font-weight:normal}\n",
       "\t\t.st10 {fill:#c5e0b3;stroke:#000000;stroke-width:0.25}\n",
       "\t\t.st11 {fill:#f7cbac;stroke:#000000;stroke-width:0.25}\n",
       "\t\t.st12 {fill:#f7cbad;stroke:#000000;stroke-width:0.25}\n",
       "\t\t.st13 {fill:#000000;font-family:Calibri;font-size:1.5em;font-weight:bold}\n",
       "\t\t.st14 {fill:none;fill-rule:evenodd;font-size:12px;overflow:visible;stroke-linecap:square;stroke-miterlimit:3}\n",
       "\t]]>\n",
       "\t</style>\n",
       "\n",
       "\t<defs id=\"Markers\">\n",
       "\t\t<g id=\"lend4\">\n",
       "\t\t\t<path d=\"M 2 1 L 0 0 L 2 -1 L 2 1 \" style=\"stroke:none\"/>\n",
       "\t\t</g>\n",
       "\t\t<marker class=\"st6\" id=\"mrkr4-12\" markerUnits=\"strokeWidth\" orient=\"auto\" overflow=\"visible\" refX=\"-6.68\" v:arrowSize=\"2\" v:arrowType=\"4\" v:setback=\"6.68\">\n",
       "\t\t\t<use transform=\"scale(-3.52,-3.52) \" xlink:href=\"#lend4\"/>\n",
       "\t\t</marker>\n",
       "\t</defs>\n",
       "\t<g v:groupContext=\"foregroundPage\" v:index=\"1\" v:mID=\"0\">\n",
       "\t\t<title>Page-1</title>\n",
       "\t\t<v:pageProperties v:drawingScale=\"1\" v:drawingUnits=\"19\" v:pageScale=\"1\" v:shadowOffsetX=\"9\" v:shadowOffsetY=\"-9\"/>\n",
       "\t\t<v:layer v:index=\"0\" v:name=\"Connector\"/>\n",
       "\t\t<g id=\"shape3-1\" transform=\"translate(303.398,-638.493)\" v:groupContext=\"shape\" v:mID=\"3\">\n",
       "\t\t\t<title>Sheet.3</title>\n",
       "\t\t\t<desc>Input Data</desc>\n",
       "\t\t\t<v:userDefs/>\n",
       "\t\t\t<v:textBlock v:margins=\"rect(4,4,4,4)\" v:tabSpace=\"42.5197\"/>\n",
       "\t\t\t<v:textRect cx=\"36.6181\" cy=\"778.908\" height=\"26.1831\" width=\"73.25\"/>\n",
       "\t\t\t<rect class=\"st1\" height=\"26.1831\" width=\"73.2362\" x=\"0\" y=\"765.817\"/>\n",
       "\t\t\t<text class=\"st2\" v:langID=\"1033\" x=\"6.54\" y=\"783.11\"><v:paragraph v:horizAlign=\"1\"/><v:tabList/>Input Data</text>\t\t</g>\n",
       "\t\t<g id=\"shape4-4\" transform=\"translate(216.709,-550.574)\" v:groupContext=\"shape\" v:mID=\"4\">\n",
       "\t\t\t<title>Rectangle</title>\n",
       "\t\t\t<desc>Dense(200)</desc>\n",
       "\t\t\t<v:userDefs>\n",
       "\t\t\t\t<v:ud v:nameU=\"visVersion\" v:val=\"VT0(15):26\"/>\n",
       "\t\t\t</v:userDefs>\n",
       "\t\t\t<v:textBlock v:margins=\"rect(4,4,4,4)\" v:tabSpace=\"42.5197\"/>\n",
       "\t\t\t<v:textRect cx=\"123.307\" cy=\"768.466\" height=\"47.0665\" width=\"246.62\"/>\n",
       "\t\t\t<rect class=\"st3\" height=\"47.0665\" width=\"246.614\" x=\"0\" y=\"744.934\"/>\n",
       "\t\t\t<text class=\"st4\" v:langID=\"1033\" x=\"95.38\" y=\"772.07\"><v:paragraph v:horizAlign=\"1\"/><v:tabList/>Dense(200)</text>\t\t</g>\n",
       "\t\t<g id=\"shape5-7\" transform=\"translate(339.905,-597.644)\" v:groupContext=\"shape\" v:layerMember=\"0\" v:mID=\"5\">\n",
       "\t\t\t<title>Dynamic connector</title>\n",
       "\t\t\t<path class=\"st5\" d=\"M0 753.92 L0.11 753.92 L0.11 784.96 L0.11 784.96 L0.11 785.32\"/>\n",
       "\t\t</g>\n",
       "\t\t<g id=\"shape6-13\" transform=\"translate(274.147,-486.322)\" v:groupContext=\"shape\" v:mID=\"6\">\n",
       "\t\t\t<title>Rectangle.6</title>\n",
       "\t\t\t<desc>Dense(100)</desc>\n",
       "\t\t\t<v:userDefs>\n",
       "\t\t\t\t<v:ud v:nameU=\"visVersion\" v:val=\"VT0(15):26\"/>\n",
       "\t\t\t</v:userDefs>\n",
       "\t\t\t<v:textBlock v:margins=\"rect(4,4,4,4)\" v:tabSpace=\"42.5197\"/>\n",
       "\t\t\t<v:textRect cx=\"65.8692\" cy=\"768.466\" height=\"47.0665\" width=\"131.74\"/>\n",
       "\t\t\t<rect class=\"st3\" height=\"47.0665\" width=\"131.738\" x=\"0\" y=\"744.933\"/>\n",
       "\t\t\t<text class=\"st4\" v:langID=\"1033\" x=\"37.95\" y=\"772.07\"><v:paragraph v:horizAlign=\"1\"/><v:tabList/>Dense(100)</text>\t\t</g>\n",
       "\t\t<g id=\"shape7-16\" transform=\"translate(340.02,-533.384)\" v:groupContext=\"shape\" v:layerMember=\"0\" v:mID=\"7\">\n",
       "\t\t\t<title>Dynamic connector.7</title>\n",
       "\t\t\t<path class=\"st5\" d=\"M0 774.81 L0 784.96 L0 784.96 L0 785.32\"/>\n",
       "\t\t</g>\n",
       "\t\t<g id=\"shape8-21\" transform=\"translate(291.589,-422.069)\" v:groupContext=\"shape\" v:mID=\"8\">\n",
       "\t\t\t<title>Rectangle.8</title>\n",
       "\t\t\t<desc>Dense(25)</desc>\n",
       "\t\t\t<v:userDefs>\n",
       "\t\t\t\t<v:ud v:nameU=\"visVersion\" v:val=\"VT0(15):26\"/>\n",
       "\t\t\t</v:userDefs>\n",
       "\t\t\t<v:textBlock v:margins=\"rect(4,4,4,4)\" v:tabSpace=\"42.5197\"/>\n",
       "\t\t\t<v:textRect cx=\"48.427\" cy=\"768.466\" height=\"47.0665\" width=\"96.87\"/>\n",
       "\t\t\t<rect class=\"st3\" height=\"47.0665\" width=\"96.854\" x=\"0\" y=\"744.933\"/>\n",
       "\t\t\t<text class=\"st4\" v:langID=\"1033\" x=\"23.55\" y=\"772.07\"><v:paragraph v:horizAlign=\"1\"/><v:tabList/>Dense(25)</text>\t\t</g>\n",
       "\t\t<g id=\"shape9-24\" transform=\"translate(340.02,-469.132)\" v:groupContext=\"shape\" v:layerMember=\"0\" v:mID=\"9\">\n",
       "\t\t\t<title>Dynamic connector.9</title>\n",
       "\t\t\t<path class=\"st5\" d=\"M0 774.81 L0 784.96 L0 784.96 L0 785.32\"/>\n",
       "\t\t</g>\n",
       "\t\t<g id=\"shape10-29\" transform=\"translate(384.418,-365.14)\" v:groupContext=\"shape\" v:mID=\"10\">\n",
       "\t\t\t<title>Rectangle.10</title>\n",
       "\t\t\t<desc>Σ Dense(5)</desc>\n",
       "\t\t\t<v:userDefs>\n",
       "\t\t\t\t<v:ud v:nameU=\"visVersion\" v:val=\"VT0(15):26\"/>\n",
       "\t\t\t</v:userDefs>\n",
       "\t\t\t<v:textBlock v:margins=\"rect(4,4,4,4)\" v:tabSpace=\"42.5197\"/>\n",
       "\t\t\t<v:textRect cx=\"36.6181\" cy=\"768.467\" height=\"47.0665\" width=\"73.25\"/>\n",
       "\t\t\t<rect class=\"st7\" height=\"47.0665\" width=\"73.2362\" x=\"0\" y=\"744.933\"/>\n",
       "\t\t\t<text class=\"st8\" v:langID=\"1033\" x=\"33.8\" y=\"764.87\"><v:paragraph v:horizAlign=\"1\"/><v:tabList/>Σ<v:newlineChar/><tspan class=\"st9\" dy=\"1.2em\" x=\"14.78\">Dense(5)</tspan></text>\t\t</g>\n",
       "\t\t<g id=\"shape11-33\" transform=\"translate(222.16,-365.14)\" v:groupContext=\"shape\" v:mID=\"11\">\n",
       "\t\t\t<title>Rectangle.11</title>\n",
       "\t\t\t<desc>µ Dense(5)</desc>\n",
       "\t\t\t<v:userDefs>\n",
       "\t\t\t\t<v:ud v:nameU=\"visVersion\" v:val=\"VT0(15):26\"/>\n",
       "\t\t\t</v:userDefs>\n",
       "\t\t\t<v:textBlock v:margins=\"rect(4,4,4,4)\" v:tabSpace=\"42.5197\"/>\n",
       "\t\t\t<v:textRect cx=\"36.6181\" cy=\"768.467\" height=\"47.0665\" width=\"73.25\"/>\n",
       "\t\t\t<rect class=\"st10\" height=\"47.0665\" width=\"73.2362\" x=\"0\" y=\"744.933\"/>\n",
       "\t\t\t<text class=\"st8\" v:langID=\"1033\" x=\"33.24\" y=\"764.87\"><v:paragraph v:horizAlign=\"1\"/><v:tabList/>µ<v:newlineChar/><tspan class=\"st9\" dy=\"1.2em\" x=\"14.78\">Dense(5)</tspan></text>\t\t</g>\n",
       "\t\t<g id=\"shape12-37\" transform=\"translate(252.459,-412.202)\" v:groupContext=\"shape\" v:layerMember=\"0\" v:mID=\"12\">\n",
       "\t\t\t<title>Dynamic connector.13</title>\n",
       "\t\t\t<path class=\"st5\" d=\"M39.13 758.6 L0 758.6 L0 784.96 L0 784.96 L0 785.32\"/>\n",
       "\t\t</g>\n",
       "\t\t<g id=\"shape13-42\" transform=\"translate(388.443,-412.202)\" v:groupContext=\"shape\" v:layerMember=\"0\" v:mID=\"13\">\n",
       "\t\t\t<title>Dynamic connector.14</title>\n",
       "\t\t\t<path class=\"st5\" d=\"M0 758.6 L39.13 758.6 L39.13 784.96 L39.13 784.96 L39.13 785.32\"/>\n",
       "\t\t</g>\n",
       "\t\t<g id=\"shape14-47\" transform=\"translate(308.29,-283.604)\" v:groupContext=\"shape\" v:mID=\"14\">\n",
       "\t\t\t<title>Rectangle.15</title>\n",
       "\t\t\t<desc>Sampling(5)</desc>\n",
       "\t\t\t<v:userDefs>\n",
       "\t\t\t\t<v:ud v:nameU=\"visVersion\" v:val=\"VT0(15):26\"/>\n",
       "\t\t\t</v:userDefs>\n",
       "\t\t\t<v:textBlock v:margins=\"rect(4,4,4,4)\" v:tabSpace=\"42.5197\"/>\n",
       "\t\t\t<v:textRect cx=\"35.9782\" cy=\"768.466\" height=\"47.0665\" width=\"71.96\"/>\n",
       "\t\t\t<rect class=\"st11\" height=\"47.0665\" width=\"71.9564\" x=\"0\" y=\"744.933\"/>\n",
       "\t\t\t<text class=\"st4\" v:langID=\"1033\" x=\"6.99\" y=\"772.07\"><v:paragraph v:horizAlign=\"1\"/><v:tabList/>Sampling(5)</text>\t\t</g>\n",
       "\t\t<g id=\"shape15-50\" transform=\"translate(258.779,-330.67)\" v:groupContext=\"shape\" v:layerMember=\"0\" v:mID=\"15\">\n",
       "\t\t\t<title>Dynamic connector.16</title>\n",
       "\t\t\t<path class=\"st5\" d=\"M0 757.53 L0 779.33 L85.49 779.33 L85.49 784.96 L85.49 784.96 L85.49 785.32\"/>\n",
       "\t\t</g>\n",
       "\t\t<g id=\"shape16-55\" transform=\"translate(344.266,-330.67)\" v:groupContext=\"shape\" v:layerMember=\"0\" v:mID=\"16\">\n",
       "\t\t\t<title>Dynamic connector.17</title>\n",
       "\t\t\t<path class=\"st5\" d=\"M76.77 757.53 L76.77 779.33 L0 779.33 L0 784.96 L0 784.96 L0 785.32\"/>\n",
       "\t\t</g>\n",
       "\t\t<g id=\"shape17-60\" transform=\"translate(294.171,-217.203)\" v:groupContext=\"shape\" v:mID=\"17\">\n",
       "\t\t\t<title>Rectangle.18</title>\n",
       "\t\t\t<desc>Dense(25)</desc>\n",
       "\t\t\t<v:userDefs>\n",
       "\t\t\t\t<v:ud v:nameU=\"visVersion\" v:val=\"VT0(15):26\"/>\n",
       "\t\t\t</v:userDefs>\n",
       "\t\t\t<v:textBlock v:margins=\"rect(4,4,4,4)\" v:tabSpace=\"42.5197\"/>\n",
       "\t\t\t<v:textRect cx=\"50.0969\" cy=\"768.466\" height=\"47.0665\" width=\"100.21\"/>\n",
       "\t\t\t<rect class=\"st11\" height=\"47.0665\" width=\"100.194\" x=\"0\" y=\"744.933\"/>\n",
       "\t\t\t<text class=\"st4\" v:langID=\"1033\" x=\"25.21\" y=\"772.07\"><v:paragraph v:horizAlign=\"1\"/><v:tabList/>Dense(25)</text>\t\t</g>\n",
       "\t\t<g id=\"shape18-63\" transform=\"translate(344.272,-264.274)\" v:groupContext=\"shape\" v:layerMember=\"0\" v:mID=\"18\">\n",
       "\t\t\t<title>Dynamic connector.19</title>\n",
       "\t\t\t<path class=\"st5\" d=\"M0 772.67 L0 784.96 L0 784.96 L0 785.32\"/>\n",
       "\t\t</g>\n",
       "\t\t<g id=\"shape19-68\" transform=\"translate(276.128,-150.802)\" v:groupContext=\"shape\" v:mID=\"19\">\n",
       "\t\t\t<title>Rectangle.20</title>\n",
       "\t\t\t<desc>Dense(100)</desc>\n",
       "\t\t\t<v:userDefs>\n",
       "\t\t\t\t<v:ud v:nameU=\"visVersion\" v:val=\"VT0(15):26\"/>\n",
       "\t\t\t</v:userDefs>\n",
       "\t\t\t<v:textBlock v:margins=\"rect(4,4,4,4)\" v:tabSpace=\"42.5197\"/>\n",
       "\t\t\t<v:textRect cx=\"68.1405\" cy=\"768.466\" height=\"47.0665\" width=\"136.3\"/>\n",
       "\t\t\t<rect class=\"st11\" height=\"47.0665\" width=\"136.281\" x=\"0\" y=\"744.933\"/>\n",
       "\t\t\t<text class=\"st4\" v:langID=\"1033\" x=\"40.22\" y=\"772.07\"><v:paragraph v:horizAlign=\"1\"/><v:tabList/>Dense(100)</text>\t\t</g>\n",
       "\t\t<g id=\"shape20-71\" transform=\"translate(216.709,-84.4009)\" v:groupContext=\"shape\" v:mID=\"20\">\n",
       "\t\t\t<title>Rectangle.21</title>\n",
       "\t\t\t<desc>Dense(200)</desc>\n",
       "\t\t\t<v:userDefs>\n",
       "\t\t\t\t<v:ud v:nameU=\"visVersion\" v:val=\"VT0(15):26\"/>\n",
       "\t\t\t</v:userDefs>\n",
       "\t\t\t<v:textBlock v:margins=\"rect(4,4,4,4)\" v:tabSpace=\"42.5197\"/>\n",
       "\t\t\t<v:textRect cx=\"127.559\" cy=\"768.466\" height=\"47.0665\" width=\"255.13\"/>\n",
       "\t\t\t<rect class=\"st12\" height=\"47.0665\" width=\"255.118\" x=\"0\" y=\"744.933\"/>\n",
       "\t\t\t<text class=\"st4\" v:langID=\"1033\" x=\"99.64\" y=\"772.07\"><v:paragraph v:horizAlign=\"1\"/><v:tabList/>Dense(200)</text>\t\t</g>\n",
       "\t\t<g id=\"shape21-74\" transform=\"translate(344.272,-197.873)\" v:groupContext=\"shape\" v:layerMember=\"0\" v:mID=\"21\">\n",
       "\t\t\t<title>Dynamic connector.22</title>\n",
       "\t\t\t<path class=\"st5\" d=\"M0 772.67 L0 784.96 L0 784.96 L0 785.32\"/>\n",
       "\t\t</g>\n",
       "\t\t<g id=\"shape22-79\" transform=\"translate(344.272,-131.472)\" v:groupContext=\"shape\" v:layerMember=\"0\" v:mID=\"22\">\n",
       "\t\t\t<title>Dynamic connector.23</title>\n",
       "\t\t\t<path class=\"st5\" d=\"M0 772.67 L0 784.96 L0 784.96 L0 785.32\"/>\n",
       "\t\t</g>\n",
       "\t\t<g id=\"shape23-84\" transform=\"translate(298.536,-18)\" v:groupContext=\"shape\" v:mID=\"23\">\n",
       "\t\t\t<title>Sheet.23</title>\n",
       "\t\t\t<desc>Output Data</desc>\n",
       "\t\t\t<v:userDefs/>\n",
       "\t\t\t<v:textBlock v:margins=\"rect(4,4,4,4)\" v:tabSpace=\"42.5197\"/>\n",
       "\t\t\t<v:textRect cx=\"44.8694\" cy=\"768.466\" height=\"47.0665\" width=\"89.75\"/>\n",
       "\t\t\t<rect class=\"st1\" height=\"47.0665\" width=\"89.7388\" x=\"0\" y=\"744.933\"/>\n",
       "\t\t\t<text class=\"st2\" v:langID=\"1033\" x=\"9.57\" y=\"772.67\"><v:paragraph v:horizAlign=\"1\"/><v:tabList/>Output Data</text>\t\t</g>\n",
       "\t\t<g id=\"shape24-87\" transform=\"translate(344.272,-57.8814)\" v:groupContext=\"shape\" v:layerMember=\"0\" v:mID=\"24\">\n",
       "\t\t\t<title>Dynamic connector.26</title>\n",
       "\t\t\t<path class=\"st5\" d=\"M0 765.48 L0 784.96 L0 784.96 L0 785.32\"/>\n",
       "\t\t</g>\n",
       "\t\t<g id=\"shape25-92\" transform=\"translate(117.497,-573.85)\" v:groupContext=\"shape\" v:mID=\"25\">\n",
       "\t\t\t<title>Rectangle.27</title>\n",
       "\t\t\t<desc>Decoder</desc>\n",
       "\t\t\t<v:userDefs>\n",
       "\t\t\t\t<v:ud v:nameU=\"visVersion\" v:val=\"VT0(15):26\"/>\n",
       "\t\t\t</v:userDefs>\n",
       "\t\t\t<v:textBlock v:margins=\"rect(4,4,4,4)\" v:tabSpace=\"42.5197\"/>\n",
       "\t\t\t<v:textRect cx=\"27.8298\" cy=\"771.676\" height=\"40.6483\" width=\"55.66\"/>\n",
       "\t\t\t<rect class=\"st11\" height=\"40.6483\" width=\"55.6595\" x=\"0\" y=\"751.352\"/>\n",
       "\t\t\t<text class=\"st4\" v:langID=\"1033\" x=\"7.22\" y=\"775.28\"><v:paragraph v:horizAlign=\"1\"/><v:tabList/>Decoder</text>\t\t</g>\n",
       "\t\t<g id=\"shape26-95\" transform=\"translate(117.497,-638.493)\" v:groupContext=\"shape\" v:mID=\"26\">\n",
       "\t\t\t<title>Rectangle.28</title>\n",
       "\t\t\t<desc>Encoder</desc>\n",
       "\t\t\t<v:userDefs>\n",
       "\t\t\t\t<v:ud v:nameU=\"visVersion\" v:val=\"VT0(15):26\"/>\n",
       "\t\t\t</v:userDefs>\n",
       "\t\t\t<v:textBlock v:margins=\"rect(4,4,4,4)\" v:tabSpace=\"42.5197\"/>\n",
       "\t\t\t<v:textRect cx=\"27.8298\" cy=\"771.676\" height=\"40.6483\" width=\"55.66\"/>\n",
       "\t\t\t<rect class=\"st3\" height=\"40.6483\" width=\"55.6595\" x=\"0\" y=\"751.352\"/>\n",
       "\t\t\t<text class=\"st4\" v:langID=\"1033\" x=\"7.82\" y=\"775.28\"><v:paragraph v:horizAlign=\"1\"/><v:tabList/>Encoder</text>\t\t</g>\n",
       "\t\t<g id=\"shape27-98\" transform=\"translate(160.016,-712.685)\" v:groupContext=\"shape\" v:mID=\"27\">\n",
       "\t\t\t<title>Sheet.27</title>\n",
       "\t\t\t<desc>Variational Auto-encoder Diagram</desc>\n",
       "\t\t\t<v:userDefs/>\n",
       "\t\t\t<v:textBlock v:margins=\"rect(4,4,4,4)\" v:tabSpace=\"42.5197\"/>\n",
       "\t\t\t<v:textRect cx=\"162.992\" cy=\"776.437\" height=\"31.1255\" width=\"325.99\"/>\n",
       "\t\t\t<rect class=\"st1\" height=\"31.1255\" width=\"325.984\" x=\"0\" y=\"760.875\"/>\n",
       "\t\t\t<text class=\"st13\" v:langID=\"1033\" x=\"34.58\" y=\"781.84\"><v:paragraph v:horizAlign=\"1\"/><v:tabList/>Variational Auto-encoder Diagram</text>\t\t</g>\n",
       "\t</g>\n",
       "</svg>"
      ],
      "text/plain": [
       "<IPython.core.display.SVG object>"
      ]
     },
     "execution_count": 33,
     "metadata": {},
     "output_type": "execute_result"
    }
   ],
   "source": [
    "SVG(\"VAE Diagram2.svg\")"
   ]
  },
  {
   "cell_type": "markdown",
   "metadata": {},
   "source": [
    "<a id='section5'></a>\n",
    "## 2.1 Encoder Network\n",
    "\n",
    "The encoder network in an auto-encoder model is used to decrease the dimension of the input data. But in a variational auto-encoder model, the encoder network also outputs the mean and the log of standard deviation for the latent space."
   ]
  },
  {
   "cell_type": "code",
   "execution_count": 11,
   "metadata": {},
   "outputs": [
    {
     "name": "stdout",
     "output_type": "stream",
     "text": [
      "__________________________________________________________________________________________________\n",
      "Layer (type)                    Output Shape         Param #     Connected to                     \n",
      "==================================================================================================\n",
      "encoder_input (InputLayer)      (None, 331)          0                                            \n",
      "__________________________________________________________________________________________________\n",
      "intermediate_1 (Dense)          (None, 200)          66400       encoder_input[0][0]              \n",
      "__________________________________________________________________________________________________\n",
      "z_mean (Dense)                  (None, 5)            1005        intermediate_1[0][0]             \n",
      "__________________________________________________________________________________________________\n",
      "z_log_var (Dense)               (None, 5)            1005        intermediate_1[0][0]             \n",
      "__________________________________________________________________________________________________\n",
      "z (Lambda)                      (None, 5)            0           z_mean[0][0]                     \n",
      "                                                                 z_log_var[0][0]                  \n",
      "==================================================================================================\n",
      "Total params: 68,410\n",
      "Trainable params: 68,410\n",
      "Non-trainable params: 0\n",
      "__________________________________________________________________________________________________\n"
     ]
    }
   ],
   "source": [
    "# build encoder model\n",
    "inputs = Input(shape=input_shape, name='encoder_input')\n",
    "x1 = Dense(intermediate_dim, activation='sigmoid', name='intermediate_1', kernel_regularizer=l1_l2(l1=encoder_layer1_l1, l2=encoder_layer1_l2))(inputs)\n",
    "# x2 = Dense(intermediate_dim2, activation='sigmoid', name='intermediate_2')(x1)\n",
    "# x3 = Dense(intermediate_dim3, activation='sigmoid', name='intermediate_3')(x1)\n",
    "z_mean = Dense(latent_dim, name='z_mean')(x1)\n",
    "z_log_var = Dense(latent_dim, name='z_log_var')(x1)\n",
    "\n",
    "def sampling(args):\n",
    "    z_mean, z_log_var = args\n",
    "    batch = K.shape(z_mean)[0]\n",
    "    dim = K.int_shape(z_mean)[1]\n",
    "    epsilon = K.random_normal(shape=(batch, dim))\n",
    "    return z_mean + K.exp(0.5 * z_log_var) * epsilon\n",
    "\n",
    "z = Lambda(sampling, output_shape=(latent_dim,), name='z')([z_mean, z_log_var])\n",
    "# instantiate encoder model\n",
    "encoder = Model(inputs, [z_mean, z_log_var, z], name='encoder')\n",
    "encoder.summary()"
   ]
  },
  {
   "cell_type": "markdown",
   "metadata": {},
   "source": [
    "<a id='section6'></a>\n",
    "## 2.2 Decoder Network\n",
    "\n",
    "After reducing the dimension of the input data using the encoder network, we use the decoder network to increase the dimension up to the original dimension of the input data. In the decoder networks of variational auto-encoders, we first generate random numbers, in normal distribution space, using the means and the standard deviations resulted from the encoder network. Then we try to re-create the input data from the random sample, and this is why the output of this model is generative."
   ]
  },
  {
   "cell_type": "code",
   "execution_count": 12,
   "metadata": {},
   "outputs": [
    {
     "name": "stdout",
     "output_type": "stream",
     "text": [
      "_________________________________________________________________\n",
      "Layer (type)                 Output Shape              Param #   \n",
      "=================================================================\n",
      "z_sampling (InputLayer)      (None, 5)                 0         \n",
      "_________________________________________________________________\n",
      "dense_1 (Dense)              (None, 200)               1200      \n",
      "_________________________________________________________________\n",
      "leaky_re_lu_1 (LeakyReLU)    (None, 200)               0         \n",
      "_________________________________________________________________\n",
      "dense_2 (Dense)              (None, 331)               66531     \n",
      "=================================================================\n",
      "Total params: 67,731\n",
      "Trainable params: 67,731\n",
      "Non-trainable params: 0\n",
      "_________________________________________________________________\n"
     ]
    }
   ],
   "source": [
    "# build decoder model\n",
    "latent_inputs = Input(shape=(latent_dim,), name='z_sampling')\n",
    "# x1 = Dense(intermediate_dim3, kernel_regularizer=l1_l2(l1=decoder_layer1_l1, l2=decoder_layer1_l2))(latent_inputs)\n",
    "# x1_act = LeakyReLU()(x1)\n",
    "# x2 = Dense(intermediate_dim2, kernel_regularizer=l1_l2(l1=decoder_layer2_l1, l2=decoder_layer2_l2))(x1_act)\n",
    "# x2_act = LeakyReLU()(x2)\n",
    "x3 = Dense(intermediate_dim, kernel_regularizer=l1_l2(l1=decoder_layer3_l1, l2=decoder_layer3_l2))(latent_inputs)\n",
    "x3_act = LeakyReLU()(x3)\n",
    "outputs = Dense(original_dim, activation='sigmoid')(x3_act)\n",
    "# instantiate decoder model\n",
    "decoder = Model(latent_inputs, outputs, name='decoder')\n",
    "decoder.summary()"
   ]
  },
  {
   "cell_type": "code",
   "execution_count": 13,
   "metadata": {},
   "outputs": [],
   "source": [
    "# instantiate VAE model\n",
    "outputs = decoder(encoder(inputs)[2])\n",
    "vae = Model(inputs, outputs, name='vae_mlp')"
   ]
  },
  {
   "cell_type": "markdown",
   "metadata": {},
   "source": [
    "<a id='section7'></a>\n",
    "## 2.3 Loss Function"
   ]
  },
  {
   "cell_type": "markdown",
   "metadata": {},
   "source": [
    "Our loss function is defined as the sum of KL divergence term and reconstruction error term. The KL divergence computes the differece in terms of distribution shape, for the real distribution and the desired distribution of the latent space. The reconstruction error is computed as the mean square error of generated vs real values. The loss for the model is calculated as follows:\n",
    "\n",
    "$\n",
    "    \\begin{equation}\\label{eq:lower bound}\n",
    "        \\begin{aligned}\n",
    "            \\mathcal{L}(q) &= \\sum q(z)\\log{\\frac{p(X,Z)}{q(Z)}} \\\\\n",
    "            &= \\sum{q(Z)\\log{p(X|Z)}} + \\sum{q(Z)\\log{\\frac{p(Z)}{q(Z)}}} \\\\\n",
    "            &= E_{q(Z)}p(X|Z) - D_{KL}\\big(q(Z) || p(Z)\\big) \\\\\n",
    "            &= -E|X-\\bar{X}| - \\frac{1}{2}\\sum{\\big(1 + \\log{\\sigma^{2}} - \\mu^{2} \\sigma^{2}\\big)}\\\\\n",
    "        \\end{aligned}\n",
    "    \\end{equation}\n",
    "$"
   ]
  },
  {
   "cell_type": "code",
   "execution_count": 14,
   "metadata": {},
   "outputs": [
    {
     "name": "stdout",
     "output_type": "stream",
     "text": [
      "_________________________________________________________________\n",
      "Layer (type)                 Output Shape              Param #   \n",
      "=================================================================\n",
      "encoder_input (InputLayer)   (None, 331)               0         \n",
      "_________________________________________________________________\n",
      "encoder (Model)              [(None, 5), (None, 5), (N 68410     \n",
      "_________________________________________________________________\n",
      "decoder (Model)              (None, 331)               67731     \n",
      "=================================================================\n",
      "Total params: 136,141\n",
      "Trainable params: 136,141\n",
      "Non-trainable params: 0\n",
      "_________________________________________________________________\n"
     ]
    }
   ],
   "source": [
    "reconstruction_loss = mse(inputs, outputs)\n",
    "reconstruction_loss *= original_dim\n",
    "reconstruction_loss *= original_dim\n",
    "kl_loss = 1 + z_log_var - K.square(z_mean) - K.exp(z_log_var)\n",
    "kl_loss = K.sum(kl_loss, axis=-1)\n",
    "kl_loss *= -0.5\n",
    "vae_loss = K.mean(reconstruction_loss * 2 + kl_loss)\n",
    "vae.add_loss(vae_loss)\n",
    "vae.summary()"
   ]
  },
  {
   "cell_type": "markdown",
   "metadata": {},
   "source": [
    "<a id='section8'></a>\n",
    "# 3.Training the model\n",
    "\n",
    "VAE model is trained as a whole and after learning the weights, we can use either the encoder and the decoder separately. Here, we use adam optimizer and accuracy metric to compile the model.\n",
    "\n",
    "Then, we run backpropagation technique to train the model for 100 epochs. Also we used [adaptive learning rate](https://machinelearningmastery.com/understand-the-dynamics-of-learning-rate-on-deep-learning-neural-networks/) and [early stopping](https://machinelearningmastery.com/early-stopping-to-avoid-overtraining-neural-network-models/) to avoid [overfitting](https://machinelearningmastery.com/overfitting-and-underfitting-with-machine-learning-algorithms/)."
   ]
  },
  {
   "cell_type": "code",
   "execution_count": 15,
   "metadata": {},
   "outputs": [],
   "source": [
    "Adam = adam(0.01)\n",
    "vae.compile(optimizer=Adam)"
   ]
  },
  {
   "cell_type": "code",
   "execution_count": 16,
   "metadata": {
    "scrolled": true
   },
   "outputs": [
    {
     "name": "stdout",
     "output_type": "stream",
     "text": [
      "Train on 3195 samples, validate on 685 samples\n",
      "Epoch 1/100\n",
      "3195/3195 [==============================] - 1s 177us/step - loss: 606.7857 - val_loss: 354.4674\n",
      "Epoch 2/100\n",
      "3195/3195 [==============================] - 0s 59us/step - loss: 303.1855 - val_loss: 351.8469\n",
      "Epoch 3/100\n",
      "3195/3195 [==============================] - 0s 70us/step - loss: 301.4303 - val_loss: 349.3921\n",
      "Epoch 4/100\n",
      "3195/3195 [==============================] - 0s 63us/step - loss: 298.8551 - val_loss: 346.3529\n",
      "Epoch 5/100\n",
      "3195/3195 [==============================] - 0s 58us/step - loss: 297.6296 - val_loss: 346.7830\n",
      "Epoch 6/100\n",
      "3195/3195 [==============================] - 0s 59us/step - loss: 295.9477 - val_loss: 346.2038\n",
      "Epoch 7/100\n",
      "3195/3195 [==============================] - 0s 65us/step - loss: 296.1294 - val_loss: 345.4124\n",
      "Epoch 8/100\n",
      "3195/3195 [==============================] - 0s 63us/step - loss: 294.8410 - val_loss: 343.2283\n",
      "Epoch 9/100\n",
      "3195/3195 [==============================] - 0s 59us/step - loss: 294.6817 - val_loss: 347.9211\n",
      "Epoch 10/100\n",
      "3195/3195 [==============================] - 0s 68us/step - loss: 294.2880 - val_loss: 341.8796\n",
      "Epoch 11/100\n",
      "3195/3195 [==============================] - 0s 64us/step - loss: 290.9065 - val_loss: 335.6069\n",
      "Epoch 12/100\n",
      "3195/3195 [==============================] - 0s 60us/step - loss: 331.5043 - val_loss: 349.0126\n",
      "Epoch 13/100\n",
      "3195/3195 [==============================] - 0s 69us/step - loss: 294.9955 - val_loss: 341.8860\n",
      "Epoch 14/100\n",
      "3195/3195 [==============================] - 0s 64us/step - loss: 291.9357 - val_loss: 341.3314\n",
      "Epoch 15/100\n",
      "3195/3195 [==============================] - 0s 64us/step - loss: 291.0510 - val_loss: 338.3907\n",
      "Epoch 16/100\n",
      "3195/3195 [==============================] - 0s 72us/step - loss: 289.3464 - val_loss: 338.1182\n",
      "Epoch 17/100\n",
      "3195/3195 [==============================] - 0s 59us/step - loss: 288.9919 - val_loss: 338.1017\n",
      "Epoch 18/100\n",
      "3195/3195 [==============================] - 0s 64us/step - loss: 289.6792 - val_loss: 337.9753\n",
      "Epoch 19/100\n",
      "3195/3195 [==============================] - 0s 66us/step - loss: 288.1518 - val_loss: 338.5207\n",
      "Epoch 20/100\n",
      "3195/3195 [==============================] - 0s 62us/step - loss: 288.1389 - val_loss: 337.8599\n",
      "Epoch 21/100\n",
      "3195/3195 [==============================] - 0s 63us/step - loss: 288.1362 - val_loss: 337.7586\n",
      "\n",
      "Epoch 00021: ReduceLROnPlateau reducing learning rate to 0.008999999798834325.\n",
      "Epoch 22/100\n",
      "3195/3195 [==============================] - 0s 61us/step - loss: 287.9332 - val_loss: 337.8060\n",
      "Epoch 23/100\n",
      "3195/3195 [==============================] - 0s 64us/step - loss: 287.4727 - val_loss: 339.8166\n",
      "Epoch 24/100\n",
      "3195/3195 [==============================] - 0s 77us/step - loss: 287.3208 - val_loss: 338.1901\n",
      "Epoch 25/100\n",
      "3195/3195 [==============================] - 0s 63us/step - loss: 286.8029 - val_loss: 336.4160\n",
      "Epoch 00025: early stopping\n"
     ]
    }
   ],
   "source": [
    "t0 = time.time()\n",
    "epochs = 100\n",
    "reduceLR = ReduceLROnPlateau(monitor='val_loss', factor=0.9, patience=10, min_lr=0.0001, verbose=1)\n",
    "earlystopping = EarlyStopping(monitor='val_loss',min_delta=0, patience=14, verbose=1, mode='auto')\n",
    "# checkpointer = ModelCheckpoint(filepath=\"best_vae_model.hdf5\", verbose=0, save_best_only=True)\n",
    "history = vae.fit(train_set, epochs=epochs, batch_size=batch_size, validation_data=(valid_set, None), callbacks=[reduceLR,earlystopping])\n",
    "t1 = time.time()"
   ]
  },
  {
   "cell_type": "code",
   "execution_count": 17,
   "metadata": {},
   "outputs": [
    {
     "name": "stdout",
     "output_type": "stream",
     "text": [
      "6.24544095993042\n"
     ]
    }
   ],
   "source": [
    "print(t1 - t0)"
   ]
  },
  {
   "cell_type": "markdown",
   "metadata": {},
   "source": [
    "<a id='section9'></a>\n",
    "# 4.Testing the Model"
   ]
  },
  {
   "cell_type": "markdown",
   "metadata": {},
   "source": [
    "After Training the model, we should test the model to see if the model has trained properly or not. This is done through some visualizations."
   ]
  },
  {
   "cell_type": "markdown",
   "metadata": {},
   "source": [
    "<a id='section10'></a>\n",
    "## 4.1 Loss Graph\n",
    "\n",
    "Loss graph shows how the learning process has decreased model's loss. This graph helps checking the functionality of the learning process."
   ]
  },
  {
   "cell_type": "code",
   "execution_count": 18,
   "metadata": {},
   "outputs": [
    {
     "name": "stdout",
     "output_type": "stream",
     "text": [
      "number of epochs: 25 \n"
     ]
    },
    {
     "data": {
      "image/png": "[encoded data removed]",
      "text/plain": [
       "<Figure size 648x432 with 1 Axes>"
      ]
     },
     "metadata": {
      "needs_background": "light"
     },
     "output_type": "display_data"
    }
   ],
   "source": [
    "x = [x for x in range(len(history.history['val_loss']))]\n",
    "start = 1\n",
    "print('number of epochs: %s ' %len(history.history['val_loss']))\n",
    "plt.figure(figsize=(9,6))\n",
    "plt.plot(x[start:] ,history.history['val_loss'][start:],x[start:] , history.history['loss'][start:])\n",
    "plt.title('Model Loss')\n",
    "plt.legend(['val','train'])\n",
    "plt.xlabel('epoch')\n",
    "plt.ylabel('loss')\n",
    "plt.show()\n",
    "# plt.savefig(\"C:\\\\Users\\\\ehsan\\\\Desktop\\\\train.svg\")"
   ]
  },
  {
   "cell_type": "markdown",
   "metadata": {},
   "source": [
    "<a id='section11'></a>\n",
    "# 5.Calculating Encoded VaR\n",
    "\n",
    "After having the model trained and tested, it is the time to use the model to forecast what we wanted to, value-at-risk.\n",
    "\n",
    "To do so, first we need to forecast the mean and the standard deviation. Then, we will get the shape of the distribution of the portfolio's returns from the variational AE model. Finally, we impose the means and the deviations on the forecasted distributions and calculate the forecasted VaR using quantiles."
   ]
  },
  {
   "cell_type": "markdown",
   "metadata": {},
   "source": [
    "<a id='section12'></a>\n",
    "## 5.1 Scale and Volatility Forecast"
   ]
  },
  {
   "cell_type": "markdown",
   "metadata": {},
   "source": [
    "Due to the fact that neural network models are unable to understand scales, they just give us the shape of the generative distribution and we should set the mean and the standard deviation manually.\n",
    "\n",
    "In this project, we use ARIMA(1,1,1) and GARCH(1,1) to estimate future values for the mean and the standard deviation, respectively. In the following cell, we are going to estimate these values for the test set, which is our forecasting window."
   ]
  },
  {
   "cell_type": "code",
   "execution_count": 19,
   "metadata": {},
   "outputs": [
    {
     "name": "stdout",
     "output_type": "stream",
     "text": [
      "(3195, 1)\n",
      "(685, 1)\n",
      "(685, 1)\n"
     ]
    }
   ],
   "source": [
    "train_set2 = rets.values[:int(n_train), :]\n",
    "valid_set2 = rets.values[int(n_train):int(n_valid), :]\n",
    "test_set2 = rets.values[int(n_valid):, :]\n",
    "train_set2 = np.dot(train_set2, weights)\n",
    "valid_set2 = np.dot(valid_set2, weights)\n",
    "test_set2 = np.dot(test_set2, weights)\n",
    "print(train_set2.shape)\n",
    "print(valid_set2.shape)\n",
    "print(test_set2.shape)"
   ]
  },
  {
   "cell_type": "code",
   "execution_count": 20,
   "metadata": {},
   "outputs": [],
   "source": [
    "window_length = train_set2.shape[0] + valid_set2.shape[0]\n",
    "fit_set = rets.dot(weights)\n",
    "fit_set = fit_set * 100.0 # in terms of percentages"
   ]
  },
  {
   "cell_type": "code",
   "execution_count": 21,
   "metadata": {},
   "outputs": [
    {
     "data": {
      "text/html": [
       "<div>\n",
       "<style scoped>\n",
       "    .dataframe tbody tr th:only-of-type {\n",
       "        vertical-align: middle;\n",
       "    }\n",
       "\n",
       "    .dataframe tbody tr th {\n",
       "        vertical-align: top;\n",
       "    }\n",
       "\n",
       "    .dataframe thead th {\n",
       "        text-align: right;\n",
       "    }\n",
       "</style>\n",
       "<table border=\"1\" class=\"dataframe\">\n",
       "  <thead>\n",
       "    <tr style=\"text-align: right;\">\n",
       "      <th></th>\n",
       "      <th>0</th>\n",
       "    </tr>\n",
       "  </thead>\n",
       "  <tbody>\n",
       "    <tr>\n",
       "      <td>count</td>\n",
       "      <td>3880.000000</td>\n",
       "    </tr>\n",
       "    <tr>\n",
       "      <td>mean</td>\n",
       "      <td>0.113167</td>\n",
       "    </tr>\n",
       "    <tr>\n",
       "      <td>std</td>\n",
       "      <td>0.730490</td>\n",
       "    </tr>\n",
       "    <tr>\n",
       "      <td>min</td>\n",
       "      <td>-3.760805</td>\n",
       "    </tr>\n",
       "    <tr>\n",
       "      <td>25%</td>\n",
       "      <td>-0.268839</td>\n",
       "    </tr>\n",
       "    <tr>\n",
       "      <td>50%</td>\n",
       "      <td>0.091013</td>\n",
       "    </tr>\n",
       "    <tr>\n",
       "      <td>75%</td>\n",
       "      <td>0.458609</td>\n",
       "    </tr>\n",
       "    <tr>\n",
       "      <td>max</td>\n",
       "      <td>3.912559</td>\n",
       "    </tr>\n",
       "  </tbody>\n",
       "</table>\n",
       "</div>"
      ],
      "text/plain": [
       "                 0\n",
       "count  3880.000000\n",
       "mean      0.113167\n",
       "std       0.730490\n",
       "min      -3.760805\n",
       "25%      -0.268839\n",
       "50%       0.091013\n",
       "75%       0.458609\n",
       "max       3.912559"
      ]
     },
     "execution_count": 21,
     "metadata": {},
     "output_type": "execute_result"
    }
   ],
   "source": [
    "fit_set.iloc[:window_length].describe()"
   ]
  },
  {
   "cell_type": "code",
   "execution_count": 22,
   "metadata": {},
   "outputs": [],
   "source": [
    "window = fit_set.values[:-test_set2.shape[0]]"
   ]
  },
  {
   "cell_type": "code",
   "execution_count": 23,
   "metadata": {
    "scrolled": true
   },
   "outputs": [
    {
     "name": "stdout",
     "output_type": "stream",
     "text": [
      "ADF Statistic: -10.405642\n",
      "p-value: 0.000000\n",
      "Critical Values:\n",
      "\t1%: -3.432\n",
      "\t5%: -2.862\n",
      "\t10%: -2.567\n"
     ]
    }
   ],
   "source": [
    "## Stationarity test:\n",
    "result = adfuller(fit_set.values[:,0])\n",
    "print('ADF Statistic: %f' % result[0])\n",
    "print('p-value: %f' % result[1])\n",
    "print('Critical Values:')\n",
    "for key, value in result[4].items():\n",
    "\tprint('\\t%s: %.3f' % (key, value))"
   ]
  },
  {
   "cell_type": "code",
   "execution_count": null,
   "metadata": {},
   "outputs": [],
   "source": [
    "# ARIMA:\n",
    "\n",
    "def define_arima(order):\n",
    "    arima = ARIMA(window, order=order)\n",
    "    arima_fit = arima.fit(disp=0)\n",
    "    return (arima_fit.aic, arima_fit.bic)\n",
    "\n",
    "grid = [(p,0,q) for p in [1,2,3] for q in [1,2,3]]\n",
    "criterion = {x:None for x in grid}\n",
    "for g in grid:\n",
    "    criterion[g] = define_arima(g)\n",
    "print(min(criterion.items(), key = lambda x: x[1][1]),'best on bic')\n",
    "print(min(criterion.items(), key = lambda x: x[1][1]),'best on aic')\n",
    "best_order = min(criterion.items(), key = lambda x: x[1][1])[0]"
   ]
  },
  {
   "cell_type": "code",
   "execution_count": null,
   "metadata": {},
   "outputs": [],
   "source": [
    "criterion"
   ]
  },
  {
   "cell_type": "code",
   "execution_count": 87,
   "metadata": {},
   "outputs": [
    {
     "name": "stdout",
     "output_type": "stream",
     "text": [
      "976.3883673348195 Lagrange multiplier test statistic\n",
      "p-value: 0.000000\n"
     ]
    }
   ],
   "source": [
    "## Arch test:\n",
    "ar = ARX(window)\n",
    "res = ar.fit(disp='off').resid\n",
    "result = het_arch(res)\n",
    "print(result[0],'Lagrange multiplier test statistic')\n",
    "print('p-value: %f' % result[1])"
   ]
  },
  {
   "cell_type": "code",
   "execution_count": 66,
   "metadata": {},
   "outputs": [
    {
     "data": {
      "text/html": [
       "<table class=\"simpletable\">\n",
       "<caption>AR - GJR-GARCH Model Results</caption>\n",
       "<tr>\n",
       "  <th>Dep. Variable:</th>          <td>y</td>         <th>  R-squared:         </th>  <td>  -0.005</td> \n",
       "</tr>\n",
       "<tr>\n",
       "  <th>Mean Model:</th>            <td>AR</td>         <th>  Adj. R-squared:    </th>  <td>  -0.005</td> \n",
       "</tr>\n",
       "<tr>\n",
       "  <th>Vol Model:</th>          <td>GJR-GARCH</td>     <th>  Log-Likelihood:    </th> <td>  -3751.48</td>\n",
       "</tr>\n",
       "<tr>\n",
       "  <th>Distribution:</th>        <td>Normal</td>       <th>  AIC:               </th> <td>   7512.95</td>\n",
       "</tr>\n",
       "<tr>\n",
       "  <th>Method:</th>        <td>Maximum Likelihood</td> <th>  BIC:               </th> <td>   7544.27</td>\n",
       "</tr>\n",
       "<tr>\n",
       "  <th></th>                        <td></td>          <th>  No. Observations:  </th>    <td>3880</td>   \n",
       "</tr>\n",
       "<tr>\n",
       "  <th>Date:</th>           <td>Fri, Sep 20 2019</td>  <th>  Df Residuals:      </th>    <td>3875</td>   \n",
       "</tr>\n",
       "<tr>\n",
       "  <th>Time:</th>               <td>00:38:14</td>      <th>  Df Model:          </th>      <td>5</td>    \n",
       "</tr>\n",
       "</table>\n",
       "<table class=\"simpletable\">\n",
       "<caption>Mean Model</caption>\n",
       "<tr>\n",
       "    <td></td>       <th>coef</th>     <th>std err</th>      <th>t</th>       <th>P>|t|</th>     <th>95.0% Conf. Int.</th>   \n",
       "</tr>\n",
       "<tr>\n",
       "  <th>Const</th> <td>    0.0640</td> <td>9.943e-03</td> <td>    6.439</td> <td>1.202e-10</td> <td>[4.453e-02,8.351e-02]</td>\n",
       "</tr>\n",
       "</table>\n",
       "<table class=\"simpletable\">\n",
       "<caption>Volatility Model</caption>\n",
       "<tr>\n",
       "      <td></td>        <th>coef</th>     <th>std err</th>      <th>t</th>       <th>P>|t|</th>      <th>95.0% Conf. Int.</th>   \n",
       "</tr>\n",
       "<tr>\n",
       "  <th>omega</th>    <td>    0.0195</td> <td>7.760e-03</td> <td>    2.513</td> <td>1.198e-02</td>  <td>[4.290e-03,3.471e-02]</td>\n",
       "</tr>\n",
       "<tr>\n",
       "  <th>alpha[1]</th> <td>    0.1630</td> <td>3.479e-02</td> <td>    4.686</td> <td>2.785e-06</td>   <td>[9.485e-02,  0.231]</td> \n",
       "</tr>\n",
       "<tr>\n",
       "  <th>gamma[1]</th> <td>4.2719e-03</td> <td>1.750e-02</td> <td>    0.244</td> <td>    0.807</td> <td>[-3.003e-02,3.857e-02]</td>\n",
       "</tr>\n",
       "<tr>\n",
       "  <th>beta[1]</th>  <td>    0.8038</td> <td>4.354e-02</td> <td>   18.461</td> <td>4.220e-76</td>    <td>[  0.718,  0.889]</td>  \n",
       "</tr>\n",
       "</table><br/><br/>Covariance estimator: robust"
      ],
      "text/plain": [
       "<class 'statsmodels.iolib.summary.Summary'>\n",
       "\"\"\"\n",
       "                         AR - GJR-GARCH Model Results                         \n",
       "==============================================================================\n",
       "Dep. Variable:                      y   R-squared:                      -0.005\n",
       "Mean Model:                        AR   Adj. R-squared:                 -0.005\n",
       "Vol Model:                  GJR-GARCH   Log-Likelihood:               -3751.48\n",
       "Distribution:                  Normal   AIC:                           7512.95\n",
       "Method:            Maximum Likelihood   BIC:                           7544.27\n",
       "                                        No. Observations:                 3880\n",
       "Date:                Fri, Sep 20 2019   Df Residuals:                     3875\n",
       "Time:                        00:38:14   Df Model:                            5\n",
       "                                 Mean Model                                 \n",
       "============================================================================\n",
       "                 coef    std err          t      P>|t|      95.0% Conf. Int.\n",
       "----------------------------------------------------------------------------\n",
       "Const          0.0640  9.943e-03      6.439  1.202e-10 [4.453e-02,8.351e-02]\n",
       "                               Volatility Model                              \n",
       "=============================================================================\n",
       "                 coef    std err          t      P>|t|       95.0% Conf. Int.\n",
       "-----------------------------------------------------------------------------\n",
       "omega          0.0195  7.760e-03      2.513  1.198e-02  [4.290e-03,3.471e-02]\n",
       "alpha[1]       0.1630  3.479e-02      4.686  2.785e-06    [9.485e-02,  0.231]\n",
       "gamma[1]   4.2719e-03  1.750e-02      0.244      0.807 [-3.003e-02,3.857e-02]\n",
       "beta[1]        0.8038  4.354e-02     18.461  4.220e-76      [  0.718,  0.889]\n",
       "=============================================================================\n",
       "\n",
       "Covariance estimator: robust\n",
       "\"\"\""
      ]
     },
     "execution_count": 66,
     "metadata": {},
     "output_type": "execute_result"
    }
   ],
   "source": [
    "garch = arch_model(window, mean='AR', dist='normal', vol='garch', p=1, q=1, o=1)\n",
    "garch_fit = garch.fit(disp=\"off\")\n",
    "garch_fit.summary()"
   ]
  },
  {
   "cell_type": "code",
   "execution_count": 67,
   "metadata": {},
   "outputs": [
    {
     "data": {
      "image/png": "[encoded data removed]",
      "text/plain": [
       "<Figure size 432x288 with 2 Axes>"
      ]
     },
     "metadata": {},
     "output_type": "display_data"
    }
   ],
   "source": [
    "garch_fit.plot()\n",
    "plt.show()\n",
    "# plt.savefig(\"C:\\\\Users\\\\ehsan\\\\Desktop\\\\qqplot.svg\")"
   ]
  },
  {
   "cell_type": "code",
   "execution_count": 68,
   "metadata": {},
   "outputs": [
    {
     "data": {
      "image/png": "[encoded data removed]",
      "text/plain": [
       "<Figure size 432x288 with 1 Axes>"
      ]
     },
     "metadata": {},
     "output_type": "display_data"
    }
   ],
   "source": [
    "plot_acf(window)\n",
    "plt.show()\n",
    "# plt.savefig(\"C:\\\\Users\\\\ehsan\\\\Desktop\\\\acf.svg\")"
   ]
  },
  {
   "cell_type": "code",
   "execution_count": 69,
   "metadata": {},
   "outputs": [
    {
     "data": {
      "image/png": "[encoded data removed]",
      "text/plain": [
       "<Figure size 432x288 with 1 Axes>"
      ]
     },
     "metadata": {},
     "output_type": "display_data"
    }
   ],
   "source": [
    "plot_pacf(window)\n",
    "plt.savefig(\"C:\\\\Users\\\\ehsan\\\\Desktop\\\\pacf.svg\")"
   ]
  },
  {
   "cell_type": "code",
   "execution_count": 43,
   "metadata": {
    "scrolled": true
   },
   "outputs": [
    {
     "name": "stdout",
     "output_type": "stream",
     "text": [
      "0\n",
      "1\n",
      "2\n",
      "3\n",
      "4\n",
      "5\n",
      "6\n",
      "7\n",
      "8\n",
      "9\n",
      "10\n",
      "11\n",
      "12\n",
      "13\n",
      "14\n",
      "15\n",
      "16\n",
      "17\n",
      "18\n",
      "19\n",
      "20\n",
      "21\n",
      "22\n",
      "23\n",
      "24\n",
      "25\n",
      "26\n",
      "27\n",
      "28\n",
      "29\n",
      "30\n",
      "31\n",
      "32\n",
      "33\n",
      "34\n",
      "35\n",
      "36\n",
      "37\n",
      "38\n",
      "39\n",
      "40\n",
      "41\n",
      "42\n",
      "43\n",
      "44\n",
      "45\n",
      "46\n",
      "47\n",
      "48\n",
      "49\n",
      "50\n",
      "51\n",
      "52\n",
      "53\n",
      "54\n",
      "55\n",
      "56\n",
      "57\n",
      "58\n",
      "59\n",
      "60\n",
      "61\n",
      "62\n",
      "63\n",
      "64\n",
      "65\n",
      "66\n",
      "67\n",
      "68\n",
      "69\n",
      "70\n",
      "71\n",
      "72\n",
      "73\n",
      "74\n",
      "75\n",
      "76\n",
      "77\n",
      "78\n",
      "79\n",
      "80\n",
      "81\n",
      "82\n",
      "83\n",
      "84\n",
      "85\n",
      "86\n",
      "87\n",
      "88\n",
      "89\n",
      "90\n",
      "91\n",
      "92\n",
      "93\n",
      "94\n",
      "95\n",
      "96\n",
      "97\n",
      "98\n",
      "99\n",
      "100\n",
      "101\n",
      "102\n",
      "103\n",
      "104\n",
      "105\n",
      "106\n",
      "107\n",
      "108\n",
      "109\n",
      "110\n",
      "111\n",
      "112\n",
      "113\n",
      "114\n",
      "115\n",
      "116\n",
      "117\n",
      "118\n",
      "119\n",
      "120\n",
      "121\n",
      "122\n",
      "123\n",
      "124\n",
      "125\n",
      "126\n",
      "127\n",
      "128\n",
      "129\n",
      "130\n",
      "131\n",
      "132\n",
      "133\n",
      "134\n",
      "135\n",
      "136\n",
      "137\n",
      "138\n",
      "139\n",
      "140\n",
      "141\n",
      "142\n",
      "143\n",
      "144\n",
      "145\n",
      "146\n",
      "147\n",
      "148\n",
      "149\n",
      "150\n",
      "151\n",
      "152\n",
      "153\n",
      "154\n",
      "155\n",
      "156\n",
      "157\n",
      "158\n",
      "159\n",
      "160\n",
      "161\n",
      "162\n",
      "163\n",
      "164\n",
      "165\n",
      "166\n",
      "167\n",
      "168\n",
      "169\n",
      "170\n",
      "171\n",
      "172\n",
      "173\n",
      "174\n",
      "175\n",
      "176\n",
      "177\n",
      "178\n",
      "179\n",
      "180\n",
      "181\n",
      "182\n",
      "183\n",
      "184\n",
      "185\n",
      "186\n",
      "187\n",
      "188\n",
      "189\n",
      "190\n",
      "191\n",
      "192\n",
      "193\n",
      "194\n",
      "195\n",
      "196\n",
      "197\n",
      "198\n",
      "199\n",
      "200\n",
      "201\n",
      "202\n",
      "203\n",
      "204\n",
      "205\n",
      "206\n",
      "207\n",
      "208\n",
      "209\n",
      "210\n",
      "211\n",
      "212\n",
      "213\n",
      "214\n",
      "215\n",
      "216\n",
      "217\n",
      "218\n",
      "219\n",
      "220\n",
      "221\n",
      "222\n",
      "223\n",
      "224\n",
      "225\n",
      "226\n",
      "227\n",
      "228\n",
      "229\n",
      "230\n",
      "231\n",
      "232\n",
      "233\n",
      "234\n",
      "235\n",
      "236\n",
      "237\n",
      "238\n",
      "239\n",
      "240\n",
      "241\n",
      "242\n",
      "243\n",
      "244\n",
      "245\n",
      "246\n",
      "247\n",
      "248\n",
      "249\n",
      "250\n",
      "251\n",
      "252\n",
      "253\n",
      "254\n",
      "255\n",
      "256\n",
      "257\n",
      "258\n",
      "259\n",
      "260\n",
      "261\n",
      "262\n",
      "263\n",
      "264\n",
      "265\n",
      "266\n",
      "267\n",
      "268\n",
      "269\n",
      "270\n",
      "271\n",
      "272\n",
      "273\n",
      "274\n",
      "275\n",
      "276\n",
      "277\n",
      "278\n",
      "279\n",
      "280\n",
      "281\n",
      "282\n",
      "283\n",
      "284\n",
      "285\n",
      "286\n",
      "287\n",
      "288\n",
      "289\n",
      "290\n",
      "291\n",
      "292\n",
      "293\n",
      "294\n",
      "295\n",
      "296\n",
      "297\n",
      "298\n",
      "299\n",
      "300\n",
      "301\n",
      "302\n",
      "303\n",
      "304\n",
      "305\n",
      "306\n",
      "307\n",
      "308\n",
      "309\n",
      "310\n",
      "311\n",
      "312\n",
      "313\n",
      "314\n",
      "315\n",
      "316\n",
      "317\n",
      "318\n",
      "319\n",
      "320\n",
      "321\n",
      "322\n",
      "323\n",
      "324\n",
      "325\n",
      "326\n",
      "327\n",
      "328\n",
      "329\n",
      "330\n",
      "331\n",
      "332\n",
      "333\n",
      "334\n",
      "335\n",
      "336\n",
      "337\n",
      "338\n",
      "339\n",
      "340\n",
      "341\n",
      "342\n",
      "343\n",
      "344\n",
      "345\n",
      "346\n",
      "347\n",
      "348\n",
      "349\n",
      "350\n",
      "351\n",
      "352\n",
      "353\n",
      "354\n",
      "355\n",
      "356\n",
      "357\n",
      "358\n",
      "359\n",
      "360\n",
      "361\n",
      "362\n",
      "363\n",
      "364\n",
      "365\n",
      "366\n",
      "367\n",
      "368\n",
      "369\n",
      "370\n",
      "371\n",
      "372\n",
      "373\n",
      "374\n",
      "375\n",
      "376\n",
      "377\n",
      "378\n",
      "379\n",
      "380\n",
      "381\n",
      "382\n",
      "383\n",
      "384\n",
      "385\n",
      "386\n",
      "387\n",
      "388\n",
      "389\n",
      "390\n",
      "391\n",
      "392\n",
      "393\n",
      "394\n",
      "395\n",
      "396\n",
      "397\n",
      "398\n",
      "399\n",
      "400\n",
      "401\n",
      "402\n",
      "403\n",
      "404\n",
      "405\n",
      "406\n",
      "407\n",
      "408\n",
      "409\n",
      "410\n",
      "411\n",
      "412\n",
      "413\n",
      "414\n",
      "415\n",
      "416\n",
      "417\n",
      "418\n",
      "419\n",
      "420\n",
      "421\n",
      "422\n",
      "423\n",
      "424\n",
      "425\n",
      "426\n",
      "427\n",
      "428\n",
      "429\n",
      "430\n",
      "431\n",
      "432\n",
      "433\n",
      "434\n",
      "435\n",
      "436\n",
      "437\n",
      "438\n",
      "439\n",
      "440\n",
      "441\n",
      "442\n",
      "443\n",
      "444\n",
      "445\n",
      "446\n",
      "447\n",
      "448\n",
      "449\n",
      "450\n",
      "451\n",
      "452\n",
      "453\n",
      "454\n",
      "455\n",
      "456\n",
      "457\n",
      "458\n",
      "459\n",
      "460\n",
      "461\n",
      "462\n",
      "463\n",
      "464\n",
      "465\n",
      "466\n",
      "467\n",
      "468\n",
      "469\n",
      "470\n",
      "471\n",
      "472\n",
      "473\n",
      "474\n",
      "475\n",
      "476\n",
      "477\n",
      "478\n",
      "479\n",
      "480\n",
      "481\n",
      "482\n",
      "483\n",
      "484\n",
      "485\n",
      "486\n",
      "487\n",
      "488\n",
      "489\n",
      "490\n",
      "491\n",
      "492\n",
      "493\n",
      "494\n",
      "495\n",
      "496\n",
      "497\n",
      "498\n",
      "499\n",
      "500\n",
      "501\n",
      "502\n",
      "503\n",
      "504\n",
      "505\n",
      "506\n",
      "507\n",
      "508\n",
      "509\n",
      "510\n",
      "511\n",
      "512\n",
      "513\n",
      "514\n",
      "515\n",
      "516\n",
      "517\n",
      "518\n",
      "519\n",
      "520\n",
      "521\n",
      "522\n",
      "523\n",
      "524\n",
      "525\n",
      "526\n",
      "527\n",
      "528\n",
      "529\n",
      "530\n",
      "531\n",
      "532\n",
      "533\n",
      "534\n",
      "535\n",
      "536\n",
      "537\n",
      "538\n",
      "539\n",
      "540\n",
      "541\n",
      "542\n",
      "543\n",
      "544\n",
      "545\n",
      "546\n",
      "547\n",
      "548\n",
      "549\n",
      "550\n",
      "551\n",
      "552\n",
      "553\n",
      "554\n",
      "555\n",
      "556\n",
      "557\n",
      "558\n",
      "559\n",
      "560\n",
      "561\n",
      "562\n",
      "563\n",
      "564\n",
      "565\n",
      "566\n",
      "567\n",
      "568\n",
      "569\n",
      "570\n",
      "571\n",
      "572\n",
      "573\n",
      "574\n",
      "575\n",
      "576\n",
      "577\n",
      "578\n",
      "579\n",
      "580\n",
      "581\n",
      "582\n",
      "583\n",
      "584\n",
      "585\n",
      "586\n",
      "587\n",
      "588\n",
      "589\n",
      "590\n",
      "591\n",
      "592\n",
      "593\n",
      "594\n",
      "595\n",
      "596\n",
      "597\n",
      "598\n",
      "599\n",
      "600\n",
      "601\n",
      "602\n",
      "603\n",
      "604\n",
      "605\n",
      "606\n",
      "607\n",
      "608\n",
      "609\n",
      "610\n",
      "611\n",
      "612\n",
      "613\n",
      "614\n",
      "615\n",
      "616\n",
      "617\n",
      "618\n",
      "619\n",
      "620\n",
      "621\n",
      "622\n",
      "623\n",
      "624\n",
      "625\n",
      "626\n",
      "627\n",
      "628\n",
      "629\n",
      "630\n",
      "631\n",
      "632\n",
      "633\n",
      "634\n",
      "635\n",
      "636\n",
      "637\n",
      "638\n",
      "639\n",
      "640\n",
      "641\n",
      "642\n",
      "643\n",
      "644\n",
      "645\n",
      "646\n",
      "647\n",
      "648\n",
      "649\n",
      "650\n",
      "651\n",
      "652\n",
      "653\n",
      "654\n",
      "655\n",
      "656\n",
      "657\n",
      "658\n",
      "659\n",
      "660\n",
      "661\n",
      "662\n",
      "663\n",
      "664\n",
      "665\n",
      "666\n",
      "667\n",
      "668\n",
      "669\n",
      "670\n",
      "671\n",
      "672\n",
      "673\n",
      "674\n",
      "675\n",
      "676\n",
      "677\n",
      "678\n",
      "679\n",
      "680\n",
      "681\n",
      "682\n",
      "683\n",
      "684\n",
      "(685, 1)\n",
      "(685, 1)\n"
     ]
    }
   ],
   "source": [
    "# t0 = time.time()\n",
    "# forecast_mean = np.zeros_like(test_set2)\n",
    "# forecast_std = np.zeros_like(test_set2)\n",
    "# for j in range(0, test_set2.shape[0]):\n",
    "#     print(j)\n",
    "#     window = fit_set.values[j:j + window_length]\n",
    "#     mean = np.mean(window)\n",
    "#     std = np.std(window)\n",
    "#     # ARIMA:\n",
    "#     arima = ARIMA(window, order=(3,0,1))\n",
    "#     arima_fit = arima.fit(disp=0)\n",
    "#     arima_output = arima_fit.forecast()\n",
    "#     forecast_mean[j] = arima_output[0]\n",
    "#     # GARCH:\n",
    "#     garch = arch_model(window, mean='AR', dist='normal', vol='garch', p=1, q=1, o=0)\n",
    "#     garch_fit = garch.fit(disp=\"off\")\n",
    "#     garch_output = garch_fit.forecast(horizon=1)\n",
    "#     forecast_std[j] = garch_output.variance.iloc[-1,0]\n",
    "# print(forecast_mean.shape)\n",
    "# print(forecast_std.shape)\n",
    "# t1 = time.time()"
   ]
  },
  {
   "cell_type": "code",
   "execution_count": 48,
   "metadata": {},
   "outputs": [
    {
     "data": {
      "text/plain": [
       "'0:17:38.613661'"
      ]
     },
     "execution_count": 48,
     "metadata": {},
     "output_type": "execute_result"
    }
   ],
   "source": [
    "# tm = t1 - t0\n",
    "# str(timedelta(seconds=tm))"
   ]
  },
  {
   "cell_type": "code",
   "execution_count": 94,
   "metadata": {},
   "outputs": [],
   "source": [
    "# pd.DataFrame(forecast_mean).to_csv(\"C:\\\\Users\\\\ehsan\\\\Desktop\\\\arima and garch\\\\forecast_mean_arima_iran.csv\", index=False)\n",
    "# pd.DataFrame(forecast_std).to_csv(\"C:\\\\Users\\\\ehsan\\\\Desktop\\\\arima and garch\\\\forecast_std_gjr_garch_t_iran.csv\", index=False)"
   ]
  },
  {
   "cell_type": "code",
   "execution_count": 25,
   "metadata": {},
   "outputs": [
    {
     "name": "stdout",
     "output_type": "stream",
     "text": [
      "(685, 1)\n",
      "(685, 1)\n"
     ]
    }
   ],
   "source": [
    "forecast_mean = pd.read_csv(\"C:\\\\Users\\\\ehsan\\\\Documents\\\\Khatam\\\\Thesis\\\\arima and garch\\\\forecast_mean_arima_iran.csv\", header=0)\n",
    "forecast_std = pd.read_csv(\"C:\\\\Users\\\\ehsan\\\\Documents\\\\Khatam\\\\Thesis\\\\arima and garch\\\\forecast_std_garch_t_iran.csv\", header=0)\n",
    "forecast_mean = forecast_mean.values\n",
    "forecast_std = forecast_std.values\n",
    "print(forecast_mean.shape)\n",
    "print(forecast_std.shape)"
   ]
  },
  {
   "cell_type": "markdown",
   "metadata": {},
   "source": [
    "<a id='section14'></a>\n",
    "## 5.2 Encoding the Shape of uncertainty\n",
    "\n",
    "As discussed earlier, the variational auto-encoder is here to give us the shape of uncertainty for our portfolio's returns. Technically, this means that from the model, we get a forecasted distribution for the portfolio's returns without any scale. This is where neural networks' released assumptions work for us and we don't have to implement pre-definitive distributions like Normal distribution for the returns."
   ]
  },
  {
   "cell_type": "code",
   "execution_count": 26,
   "metadata": {},
   "outputs": [
    {
     "name": "stdout",
     "output_type": "stream",
     "text": [
      "(685, 5)\n",
      "(685, 5)\n"
     ]
    }
   ],
   "source": [
    "test_latent = encoder.predict(test_set)\n",
    "z_mean = test_latent[0]\n",
    "z_std = np.exp(0.5 * test_latent[1])\n",
    "print(z_mean.shape)\n",
    "print(z_std.shape)"
   ]
  },
  {
   "cell_type": "code",
   "execution_count": 27,
   "metadata": {},
   "outputs": [],
   "source": [
    "n = z_mean.shape[0]\n",
    "m = 100 # for each one generated\n",
    "gen_latent = np.zeros((n * m, latent_dim))\n",
    "for j in range(n):\n",
    "    mean = z_mean[j, :].reshape((1, latent_dim))\n",
    "    std = z_std[j, :].reshape((1, latent_dim))\n",
    "    z_standard = np.random.normal(0, 1, size=(m, 1))\n",
    "    gen_latent[j * m: (j + 1) * m, :] = np.dot(z_standard, std) + np.repeat(mean, m, axis=0)"
   ]
  },
  {
   "cell_type": "code",
   "execution_count": 28,
   "metadata": {},
   "outputs": [
    {
     "data": {
      "text/plain": [
       "(68500, 5)"
      ]
     },
     "execution_count": 28,
     "metadata": {},
     "output_type": "execute_result"
    }
   ],
   "source": [
    "gen_latent.shape"
   ]
  },
  {
   "cell_type": "code",
   "execution_count": 29,
   "metadata": {},
   "outputs": [
    {
     "ename": "AttributeError",
     "evalue": "'numpy.ndarray' object has no attribute 'values'",
     "output_type": "error",
     "traceback": [
      "\u001b[1;31m---------------------------------------------------------------------------\u001b[0m",
      "\u001b[1;31mAttributeError\u001b[0m                            Traceback (most recent call last)",
      "\u001b[1;32m<ipython-input-29-acf32086cb57>\u001b[0m in \u001b[0;36m<module>\u001b[1;34m\u001b[0m\n\u001b[0;32m      1\u001b[0m \u001b[1;31m# %%timeit\u001b[0m\u001b[1;33m\u001b[0m\u001b[1;33m\u001b[0m\u001b[1;33m\u001b[0m\u001b[0m\n\u001b[0;32m      2\u001b[0m \u001b[0mgenerated\u001b[0m \u001b[1;33m=\u001b[0m \u001b[0mdecoder\u001b[0m\u001b[1;33m.\u001b[0m\u001b[0mpredict\u001b[0m\u001b[1;33m(\u001b[0m\u001b[0mgen_latent\u001b[0m\u001b[1;33m)\u001b[0m\u001b[1;33m\u001b[0m\u001b[1;33m\u001b[0m\u001b[0m\n\u001b[1;32m----> 3\u001b[1;33m \u001b[0mgenerated\u001b[0m \u001b[1;33m=\u001b[0m \u001b[1;33m(\u001b[0m\u001b[0mgenerated\u001b[0m \u001b[1;33m*\u001b[0m \u001b[1;33m(\u001b[0m\u001b[0mMax\u001b[0m\u001b[1;33m.\u001b[0m\u001b[0mvalues\u001b[0m \u001b[1;33m-\u001b[0m \u001b[0mMin\u001b[0m\u001b[1;33m.\u001b[0m\u001b[0mvalues\u001b[0m\u001b[1;33m)\u001b[0m\u001b[1;33m)\u001b[0m \u001b[1;33m+\u001b[0m \u001b[0mMin\u001b[0m\u001b[1;33m.\u001b[0m\u001b[0mvalues\u001b[0m\u001b[1;33m\u001b[0m\u001b[1;33m\u001b[0m\u001b[0m\n\u001b[0m\u001b[0;32m      4\u001b[0m \u001b[0mgenerated\u001b[0m\u001b[1;33m.\u001b[0m\u001b[0mshape\u001b[0m\u001b[1;33m\u001b[0m\u001b[1;33m\u001b[0m\u001b[0m\n",
      "\u001b[1;31mAttributeError\u001b[0m: 'numpy.ndarray' object has no attribute 'values'"
     ]
    }
   ],
   "source": [
    "# %%timeit\n",
    "generated = decoder.predict(gen_latent)\n",
    "generated = (generated * (Max.values - Min.values)) + Min.values\n",
    "generated.shape"
   ]
  },
  {
   "cell_type": "code",
   "execution_count": 30,
   "metadata": {},
   "outputs": [
    {
     "name": "stdout",
     "output_type": "stream",
     "text": [
      "ثنوسا\n"
     ]
    }
   ],
   "source": [
    "i=10\n",
    "print(cols[i])"
   ]
  },
  {
   "cell_type": "code",
   "execution_count": 31,
   "metadata": {},
   "outputs": [
    {
     "data": {
      "image/png": "[encoded data removed]",
      "text/plain": [
       "<Figure size 720x360 with 2 Axes>"
      ]
     },
     "metadata": {
      "needs_background": "light"
     },
     "output_type": "display_data"
    }
   ],
   "source": [
    "f, (ax1, ax2) = plt.subplots(1, 2, figsize=(10,5))\n",
    "ax1.hist(generated[:,i], bins=50) # histogram of generated values:\n",
    "ax1.set_title(\"Generated\")\n",
    "ax2.hist(rets.iloc[:,i], bins=50) # histogram of real values:\n",
    "ax2.set_title(\"Original\")\n",
    "plt.show()\n",
    "# plt.savefig(\"C:\\\\Users\\\\ehsan\\\\Desktop\\\\kernel.svg\")"
   ]
  },
  {
   "cell_type": "markdown",
   "metadata": {},
   "source": [
    "<a id='section15'></a>\n",
    "## 5.3 Imposing the Mean and the STD\n",
    "\n",
    "Using the samples generated by the network, after imposing the mean and the std that is brought by ARIMA and GARCH,we are able to calculate VaR and CVaR using quantiles.\n"
   ]
  },
  {
   "cell_type": "code",
   "execution_count": 32,
   "metadata": {},
   "outputs": [
    {
     "name": "stdout",
     "output_type": "stream",
     "text": [
      "(685, 1)\n"
     ]
    }
   ],
   "source": [
    "port_rets = np.dot(generated, weights)\n",
    "std = np.std(port_rets)\n",
    "mean = np.mean(port_rets)\n",
    "VaRs = np.zeros_like(test_set2)\n",
    "for j in range(forecast_mean.shape[0]):\n",
    "    STD = np.sqrt(forecast_std[j]) / 100.0\n",
    "    MEAN = forecast_mean[j] / 100.0\n",
    "    beta = STD / std\n",
    "    port_rets_scaled = MEAN + (port_rets - mean) * beta\n",
    "    encoded_VaR = np.percentile(port_rets_scaled, alpha)\n",
    "    VaRs[j] = encoded_VaR\n",
    "print(VaRs.shape)"
   ]
  },
  {
   "cell_type": "markdown",
   "metadata": {},
   "source": [
    "<a id='section16'></a>\n",
    "# 6.Calculating VaR of Benchmark Models\n",
    "\n",
    "In order to be able to evaluate the performance of our proposed method, there should be other models for estimating VaR and CVaR of the same portfolio. This wil help us have benchmark performance to compare with the model's."
   ]
  },
  {
   "cell_type": "markdown",
   "metadata": {},
   "source": [
    "<a id='section24'></a>\n",
    "## 6.1 Historical Simulation\n",
    "\n",
    "In this method, historical distribution is considered to be the distribution of the portfolio's returns in the future. see [Historical Simulation](https://www.value-at-risk.net/motivation-historical-simulation/)"
   ]
  },
  {
   "cell_type": "code",
   "execution_count": 33,
   "metadata": {},
   "outputs": [
    {
     "name": "stdout",
     "output_type": "stream",
     "text": [
      "(685, 1)\n"
     ]
    }
   ],
   "source": [
    "# historical simulation\n",
    "window_length = train_set2.shape[0] + valid_set2.shape[0]\n",
    "fit_set = rets.dot(weights)\n",
    "hist_VaR = np.zeros_like(test_set2)\n",
    "for j in range(test_set2.shape[0]):\n",
    "    window = fit_set.values[j:j + window_length]\n",
    "    var = np.percentile(window, alpha)\n",
    "    hist_VaR[j] = var\n",
    "print(hist_VaR.shape)"
   ]
  },
  {
   "cell_type": "markdown",
   "metadata": {},
   "source": [
    "<a id='section38'></a>\n",
    "## 6.2 Monte Carlo Simulation\n",
    "\n",
    "Monte Carlo simulation in estimating value-at-risk, requires a pre-definite distribution like normal distribution. Then, using multiple times of sampling from that distribution, we get a group of samples based upon that distribution. The alpha percentage of the most negative values from the group of samples is going to be the estimated VaR using this method."
   ]
  },
  {
   "cell_type": "code",
   "execution_count": 34,
   "metadata": {},
   "outputs": [
    {
     "name": "stdout",
     "output_type": "stream",
     "text": [
      "(685,)\n"
     ]
    }
   ],
   "source": [
    "n_samples = 10000\n",
    "STD = np.sqrt(forecast_std) / 100.0\n",
    "MEAN = forecast_mean / 100.0\n",
    "raw_samples = np.random.normal(0,1, size=(1, n_samples))\n",
    "samples_with_scale = np.repeat(MEAN, n_samples, axis=1) + np.dot(STD, raw_samples)\n",
    "mc_VaR = np.percentile(samples_with_scale, q=alpha, axis=1)\n",
    "print(mc_VaR.shape)"
   ]
  },
  {
   "cell_type": "markdown",
   "metadata": {},
   "source": [
    "<a id='section17'></a>\n",
    "# 7.Backtesting the Resulted Values\n",
    "\n",
    "By now, we calculated VaR using VAE method and the alternative models. Now we should backtest the resulting VaR series with Christoffersson's method and Lopez' loss function. Then we can compare the performance of the models in forecasting the VaR of our portfolio."
   ]
  },
  {
   "cell_type": "code",
   "execution_count": 35,
   "metadata": {},
   "outputs": [
    {
     "data": {
      "text/html": [
       "<div>\n",
       "<style scoped>\n",
       "    .dataframe tbody tr th:only-of-type {\n",
       "        vertical-align: middle;\n",
       "    }\n",
       "\n",
       "    .dataframe tbody tr th {\n",
       "        vertical-align: top;\n",
       "    }\n",
       "\n",
       "    .dataframe thead tr th {\n",
       "        text-align: left;\n",
       "    }\n",
       "</style>\n",
       "<table border=\"1\" class=\"dataframe\">\n",
       "  <thead>\n",
       "    <tr>\n",
       "      <th></th>\n",
       "      <th colspan=\"2\" halign=\"left\">Unconditional</th>\n",
       "      <th colspan=\"2\" halign=\"left\">Independence</th>\n",
       "      <th colspan=\"2\" halign=\"left\">Conditional</th>\n",
       "    </tr>\n",
       "    <tr>\n",
       "      <th></th>\n",
       "      <th>Statistic</th>\n",
       "      <th>p-Value</th>\n",
       "      <th>Statistic</th>\n",
       "      <th>p-Value</th>\n",
       "      <th>Statistic</th>\n",
       "      <th>p-Value</th>\n",
       "    </tr>\n",
       "  </thead>\n",
       "  <tbody>\n",
       "    <tr>\n",
       "      <td>Variational AE</td>\n",
       "      <td>NaN</td>\n",
       "      <td>NaN</td>\n",
       "      <td>NaN</td>\n",
       "      <td>NaN</td>\n",
       "      <td>NaN</td>\n",
       "      <td>NaN</td>\n",
       "    </tr>\n",
       "    <tr>\n",
       "      <td>Historical Simulation</td>\n",
       "      <td>NaN</td>\n",
       "      <td>NaN</td>\n",
       "      <td>NaN</td>\n",
       "      <td>NaN</td>\n",
       "      <td>NaN</td>\n",
       "      <td>NaN</td>\n",
       "    </tr>\n",
       "    <tr>\n",
       "      <td>Monte Carlo</td>\n",
       "      <td>NaN</td>\n",
       "      <td>NaN</td>\n",
       "      <td>NaN</td>\n",
       "      <td>NaN</td>\n",
       "      <td>NaN</td>\n",
       "      <td>NaN</td>\n",
       "    </tr>\n",
       "  </tbody>\n",
       "</table>\n",
       "</div>"
      ],
      "text/plain": [
       "                      Unconditional         Independence         Conditional  \\\n",
       "                          Statistic p-Value    Statistic p-Value   Statistic   \n",
       "Variational AE                  NaN     NaN          NaN     NaN         NaN   \n",
       "Historical Simulation           NaN     NaN          NaN     NaN         NaN   \n",
       "Monte Carlo                     NaN     NaN          NaN     NaN         NaN   \n",
       "\n",
       "                               \n",
       "                      p-Value  \n",
       "Variational AE            NaN  \n",
       "Historical Simulation     NaN  \n",
       "Monte Carlo               NaN  "
      ]
     },
     "execution_count": 35,
     "metadata": {},
     "output_type": "execute_result"
    }
   ],
   "source": [
    "models = ['Variational AE','Historical Simulation','Monte Carlo']\n",
    "columns = [('Unconditional', 'Statistic'),('Unconditional', 'p-Value'),('Independence', 'Statistic'),('Independence', 'p-Value'),('Conditional', 'Statistic'),('Conditional', 'p-Value')]\n",
    "Christoffersson = pd.DataFrame(index = models, columns = pd.MultiIndex.from_tuples(columns))\n",
    "Lopez = pd.DataFrame(index = models, columns = ['Mean Loss'])\n",
    "Christoffersson.head()\n",
    "# Lopez.head()"
   ]
  },
  {
   "cell_type": "markdown",
   "metadata": {},
   "source": [
    "<a id='section18'></a>\n",
    "## 7.1 Backtesting Encoded VaR"
   ]
  },
  {
   "cell_type": "code",
   "execution_count": 36,
   "metadata": {},
   "outputs": [],
   "source": [
    "encoded_VaRs = pd.DataFrame(VaRs, index=test_idx)\n",
    "real_returns = pd.DataFrame(test_set2, index=test_idx)\n",
    "bt_var = Backtest(actual=real_returns.iloc[:,0], forecast=encoded_VaRs.iloc[:,0], alpha=alpha/100.0)"
   ]
  },
  {
   "cell_type": "code",
   "execution_count": 37,
   "metadata": {},
   "outputs": [
    {
     "data": {
      "text/html": [
       "<div>\n",
       "<style scoped>\n",
       "    .dataframe tbody tr th:only-of-type {\n",
       "        vertical-align: middle;\n",
       "    }\n",
       "\n",
       "    .dataframe tbody tr th {\n",
       "        vertical-align: top;\n",
       "    }\n",
       "\n",
       "    .dataframe thead th {\n",
       "        text-align: right;\n",
       "    }\n",
       "</style>\n",
       "<table border=\"1\" class=\"dataframe\">\n",
       "  <thead>\n",
       "    <tr style=\"text-align: right;\">\n",
       "      <th></th>\n",
       "      <th>0</th>\n",
       "    </tr>\n",
       "  </thead>\n",
       "  <tbody>\n",
       "    <tr>\n",
       "      <td>count</td>\n",
       "      <td>685.000000</td>\n",
       "    </tr>\n",
       "    <tr>\n",
       "      <td>mean</td>\n",
       "      <td>-0.014159</td>\n",
       "    </tr>\n",
       "    <tr>\n",
       "      <td>std</td>\n",
       "      <td>0.009075</td>\n",
       "    </tr>\n",
       "    <tr>\n",
       "      <td>min</td>\n",
       "      <td>-0.066205</td>\n",
       "    </tr>\n",
       "    <tr>\n",
       "      <td>25%</td>\n",
       "      <td>-0.017419</td>\n",
       "    </tr>\n",
       "    <tr>\n",
       "      <td>50%</td>\n",
       "      <td>-0.011840</td>\n",
       "    </tr>\n",
       "    <tr>\n",
       "      <td>75%</td>\n",
       "      <td>-0.008114</td>\n",
       "    </tr>\n",
       "    <tr>\n",
       "      <td>max</td>\n",
       "      <td>-0.004039</td>\n",
       "    </tr>\n",
       "  </tbody>\n",
       "</table>\n",
       "</div>"
      ],
      "text/plain": [
       "                0\n",
       "count  685.000000\n",
       "mean    -0.014159\n",
       "std      0.009075\n",
       "min     -0.066205\n",
       "25%     -0.017419\n",
       "50%     -0.011840\n",
       "75%     -0.008114\n",
       "max     -0.004039"
      ]
     },
     "execution_count": 37,
     "metadata": {},
     "output_type": "execute_result"
    }
   ],
   "source": [
    "encoded_VaRs.describe()"
   ]
  },
  {
   "cell_type": "code",
   "execution_count": 40,
   "metadata": {},
   "outputs": [
    {
     "ename": "NameError",
     "evalue": "name 'mc_VaRs' is not defined",
     "output_type": "error",
     "traceback": [
      "\u001b[1;31m---------------------------------------------------------------------------\u001b[0m",
      "\u001b[1;31mNameError\u001b[0m                                 Traceback (most recent call last)",
      "\u001b[1;32m<ipython-input-40-3a97d330bde8>\u001b[0m in \u001b[0;36m<module>\u001b[1;34m\u001b[0m\n\u001b[1;32m----> 1\u001b[1;33m \u001b[0mmc_VaRs\u001b[0m\u001b[1;33m.\u001b[0m\u001b[0mdescribe\u001b[0m\u001b[1;33m(\u001b[0m\u001b[1;33m)\u001b[0m\u001b[1;33m\u001b[0m\u001b[1;33m\u001b[0m\u001b[0m\n\u001b[0m",
      "\u001b[1;31mNameError\u001b[0m: name 'mc_VaRs' is not defined"
     ]
    }
   ],
   "source": [
    "mc_VaRs.describe()"
   ]
  },
  {
   "cell_type": "code",
   "execution_count": 41,
   "metadata": {},
   "outputs": [
    {
     "name": "stdout",
     "output_type": "stream",
     "text": [
      "Number of VaR Violations: 20 times\n",
      "Percentage of VaR Violations: 2.9197 percents\n"
     ]
    }
   ],
   "source": [
    "print(\"Number of VaR Violations: %r times\"% bt_var.number_of_hits())\n",
    "print(\"Percentage of VaR Violations: %1.4f percents\"% (bt_var.hit_rate() * 100.0))"
   ]
  },
  {
   "cell_type": "markdown",
   "metadata": {},
   "source": [
    "<a id='section19'></a>\n",
    "### 7.1.1 Actual Returns vs Forecasted VaR Plot\n",
    "\n",
    "In the plot below, we see green dots which are the positive returns in the forecast horizon though yellow dots are the negative ones. The black line is the forecasted VaR and the red dots are the VaR violations."
   ]
  },
  {
   "cell_type": "code",
   "execution_count": 43,
   "metadata": {},
   "outputs": [],
   "source": [
    "# bt_var.plot(file_name=\"C:\\\\Users\\\\ehsan\\\\Desktop\\\\results\\\\bt-var-garch-t.svg\")"
   ]
  },
  {
   "cell_type": "markdown",
   "metadata": {},
   "source": [
    "<a id='section20'></a>\n",
    "### 7.1.2 Statistical Tests of Christoffersson's Method\n",
    "\n",
    "* Unconditional coverage null hypothesis: percentage of violation equals P\n",
    "* Independence null hypothesis: if violations are independent\n",
    "* Conditional: null of unconditional and alternative of independence"
   ]
  },
  {
   "cell_type": "code",
   "execution_count": 44,
   "metadata": {
    "scrolled": true
   },
   "outputs": [
    {
     "data": {
      "text/html": [
       "<div>\n",
       "<style scoped>\n",
       "    .dataframe tbody tr th:only-of-type {\n",
       "        vertical-align: middle;\n",
       "    }\n",
       "\n",
       "    .dataframe tbody tr th {\n",
       "        vertical-align: top;\n",
       "    }\n",
       "\n",
       "    .dataframe thead th {\n",
       "        text-align: right;\n",
       "    }\n",
       "</style>\n",
       "<table border=\"1\" class=\"dataframe\">\n",
       "  <thead>\n",
       "    <tr style=\"text-align: right;\">\n",
       "      <th></th>\n",
       "      <th>Statistic</th>\n",
       "      <th>p-value</th>\n",
       "    </tr>\n",
       "  </thead>\n",
       "  <tbody>\n",
       "    <tr>\n",
       "      <td>Unconditional</td>\n",
       "      <td>7.248340</td>\n",
       "      <td>0.007097</td>\n",
       "    </tr>\n",
       "    <tr>\n",
       "      <td>Independence</td>\n",
       "      <td>2.302775</td>\n",
       "      <td>0.129143</td>\n",
       "    </tr>\n",
       "    <tr>\n",
       "      <td>Conditional</td>\n",
       "      <td>9.551115</td>\n",
       "      <td>0.008433</td>\n",
       "    </tr>\n",
       "  </tbody>\n",
       "</table>\n",
       "</div>"
      ],
      "text/plain": [
       "               Statistic   p-value\n",
       "Unconditional   7.248340  0.007097\n",
       "Independence    2.302775  0.129143\n",
       "Conditional     9.551115  0.008433"
      ]
     },
     "execution_count": 44,
     "metadata": {},
     "output_type": "execute_result"
    }
   ],
   "source": [
    "df = bt_var.lr_bt()\n",
    "Christoffersson.iloc[0, :] = df.values.flatten()\n",
    "df"
   ]
  },
  {
   "cell_type": "markdown",
   "metadata": {},
   "source": [
    "<a id='section50'></a>\n",
    "## 7.1.3 Lopez Loss Function\n",
    "\n",
    "Lopez (1999) had suggested using an alternative method of backtesting which instead of a statistical test, evaluates a loss function to compare different methods."
   ]
  },
  {
   "cell_type": "code",
   "execution_count": 316,
   "metadata": {
    "scrolled": true
   },
   "outputs": [
    {
     "name": "stdout",
     "output_type": "stream",
     "text": [
      "1.000123982138876\n"
     ]
    }
   ],
   "source": [
    "vio_series = bt_var.duration_series()\n",
    "loss = 1 + (test_set2[vio_series] - VaRs[vio_series]) ** 2\n",
    "Lopez.loc['Variational AE','Mean Loss'] = np.mean(loss)\n",
    "print(np.mean(loss))"
   ]
  },
  {
   "cell_type": "code",
   "execution_count": 317,
   "metadata": {},
   "outputs": [
    {
     "data": {
      "text/plain": [
       "array([ 4, 13, 43, 20, 59, 22, 55,  3, 56,  2,  1, 37, 24,  1,  3, 10, 38,\n",
       "       10, 59, 36,  3, 36,  1,  8, 58, 46,  1, 32,  3], dtype=int64)"
      ]
     },
     "execution_count": 317,
     "metadata": {},
     "output_type": "execute_result"
    }
   ],
   "source": [
    "vio_series"
   ]
  },
  {
   "cell_type": "markdown",
   "metadata": {},
   "source": [
    "<a id='section25'></a>\n",
    "## 7.2 Backtesting Historical Simulation VaR"
   ]
  },
  {
   "cell_type": "code",
   "execution_count": 45,
   "metadata": {},
   "outputs": [],
   "source": [
    "hs_VaRs = pd.DataFrame(hist_VaR, index=test_idx)\n",
    "real_returns = pd.DataFrame(test_set2, index=test_idx)\n",
    "bt_var = Backtest(actual=real_returns.iloc[:,0], forecast=hs_VaRs.iloc[:,0], alpha=alpha/100.0)"
   ]
  },
  {
   "cell_type": "code",
   "execution_count": 46,
   "metadata": {
    "scrolled": true
   },
   "outputs": [
    {
     "name": "stdout",
     "output_type": "stream",
     "text": [
      "Number of VaR Violations: 42 times\n",
      "Percentage of VaR Violations: 6.1314 percents\n"
     ]
    }
   ],
   "source": [
    "print(\"Number of VaR Violations: %r times\"% bt_var.number_of_hits())\n",
    "print(\"Percentage of VaR Violations: %1.4f percents\"% (bt_var.hit_rate() * 100.0))"
   ]
  },
  {
   "cell_type": "markdown",
   "metadata": {},
   "source": [
    "<a id='section26'></a>\n",
    "### 7.2.1 Actual Returns vs Forecasted VaR Plot\n",
    "\n",
    "In the plot below, we see green dots which are the positive returns in the forecast horizon though yellow dots are the negative ones. The black line is the forecasted VaR and the red dots are the VaR violations."
   ]
  },
  {
   "cell_type": "code",
   "execution_count": 47,
   "metadata": {
    "scrolled": false
   },
   "outputs": [],
   "source": [
    "# bt_var.plot(file_name=\"C:\\\\Users\\\\ehsan\\\\Desktop\\\\results\\\\bt-hs-garch-t.svg\")"
   ]
  },
  {
   "cell_type": "markdown",
   "metadata": {},
   "source": [
    "<a id='section27'></a>\n",
    "### 7.2.2 Statistical Tests of Christoffersson's Method\n",
    "\n",
    "* Unconditional coverage null hypothesis: percentage of violation equals P\n",
    "* Independence null hypothesis: if violations are independent\n",
    "* Conditional: null of unconditional and alternative of independence"
   ]
  },
  {
   "cell_type": "code",
   "execution_count": 48,
   "metadata": {
    "scrolled": false
   },
   "outputs": [
    {
     "data": {
      "text/html": [
       "<div>\n",
       "<style scoped>\n",
       "    .dataframe tbody tr th:only-of-type {\n",
       "        vertical-align: middle;\n",
       "    }\n",
       "\n",
       "    .dataframe tbody tr th {\n",
       "        vertical-align: top;\n",
       "    }\n",
       "\n",
       "    .dataframe thead th {\n",
       "        text-align: right;\n",
       "    }\n",
       "</style>\n",
       "<table border=\"1\" class=\"dataframe\">\n",
       "  <thead>\n",
       "    <tr style=\"text-align: right;\">\n",
       "      <th></th>\n",
       "      <th>Statistic</th>\n",
       "      <th>p-value</th>\n",
       "    </tr>\n",
       "  </thead>\n",
       "  <tbody>\n",
       "    <tr>\n",
       "      <td>Unconditional</td>\n",
       "      <td>1.751300</td>\n",
       "      <td>1.857134e-01</td>\n",
       "    </tr>\n",
       "    <tr>\n",
       "      <td>Independence</td>\n",
       "      <td>37.042449</td>\n",
       "      <td>1.155854e-09</td>\n",
       "    </tr>\n",
       "    <tr>\n",
       "      <td>Conditional</td>\n",
       "      <td>38.793748</td>\n",
       "      <td>3.767425e-09</td>\n",
       "    </tr>\n",
       "  </tbody>\n",
       "</table>\n",
       "</div>"
      ],
      "text/plain": [
       "               Statistic       p-value\n",
       "Unconditional   1.751300  1.857134e-01\n",
       "Independence   37.042449  1.155854e-09\n",
       "Conditional    38.793748  3.767425e-09"
      ]
     },
     "execution_count": 48,
     "metadata": {},
     "output_type": "execute_result"
    }
   ],
   "source": [
    "df = bt_var.lr_bt()\n",
    "Christoffersson.iloc[1, :] = df.values.flatten()\n",
    "df"
   ]
  },
  {
   "cell_type": "markdown",
   "metadata": {},
   "source": [
    "<a id='section70'></a>\n",
    "## 7.2.3 Lopez Loss Function\n",
    "\n",
    "Lopez (1999) had suggested using an alternative method of backtesting which instead of a statistical test, evaluates a loss function to compare different methods."
   ]
  },
  {
   "cell_type": "code",
   "execution_count": 49,
   "metadata": {},
   "outputs": [
    {
     "name": "stdout",
     "output_type": "stream",
     "text": [
      "1.000184301472246\n"
     ]
    }
   ],
   "source": [
    "vio_series = bt_var.duration_series()\n",
    "loss = 1 + (test_set2[vio_series] - hist_VaR[vio_series]) ** 2\n",
    "Lopez.loc['Historical Simulation','Mean Loss'] = np.mean(loss)\n",
    "print(np.mean(loss))"
   ]
  },
  {
   "cell_type": "code",
   "execution_count": 50,
   "metadata": {},
   "outputs": [
    {
     "data": {
      "text/plain": [
       "array([ 4, 13, 43, 79,  7, 70,  3,  1, 57,  1, 62,  3, 10,  8, 30,  1,  9,\n",
       "       59,  1,  1,  1,  1,  2,  1,  7,  1,  1,  1,  4,  9,  1,  5,  2,  1,\n",
       "       37, 56, 10,  1, 28, 17,  1, 32,  3], dtype=int64)"
      ]
     },
     "execution_count": 50,
     "metadata": {},
     "output_type": "execute_result"
    }
   ],
   "source": [
    "vio_series"
   ]
  },
  {
   "cell_type": "markdown",
   "metadata": {},
   "source": [
    "<a id='section39'></a>\n",
    "## 7.3 Backtesting Monte Carlo Simulation VaR"
   ]
  },
  {
   "cell_type": "code",
   "execution_count": 51,
   "metadata": {},
   "outputs": [],
   "source": [
    "mc_VaRs = pd.DataFrame(mc_VaR, index=test_idx)\n",
    "real_returns = pd.DataFrame(test_set2, index=test_idx)\n",
    "bt_var = Backtest(actual=real_returns.iloc[:,0], forecast=mc_VaRs.iloc[:,0], alpha=alpha/100.0)"
   ]
  },
  {
   "cell_type": "code",
   "execution_count": 52,
   "metadata": {
    "scrolled": false
   },
   "outputs": [
    {
     "name": "stdout",
     "output_type": "stream",
     "text": [
      "Number of VaR Violations: 29 times\n",
      "Percentage of VaR Violations: 4.2336 percents\n"
     ]
    }
   ],
   "source": [
    "print(\"Number of VaR Violations: %r times\"% bt_var.number_of_hits())\n",
    "print(\"Percentage of VaR Violations: %1.4f percents\"% (bt_var.hit_rate() * 100.0))"
   ]
  },
  {
   "cell_type": "markdown",
   "metadata": {},
   "source": [
    "<a id='section40'></a>\n",
    "### 7.3.1 Actual Returns vs Forecasted VaR Plot\n",
    "\n",
    "In the plot below, we see green dots which are the positive returns in the forecast horizon though yellow dots are the negative ones. The black line is the forecasted VaR and the red dots are the VaR violations."
   ]
  },
  {
   "cell_type": "code",
   "execution_count": 53,
   "metadata": {
    "scrolled": false
   },
   "outputs": [],
   "source": [
    "# bt_var.plot(file_name=\"C:\\\\Users\\\\ehsan\\\\Desktop\\\\results\\\\bt-mc-garch-t.svg\")"
   ]
  },
  {
   "cell_type": "markdown",
   "metadata": {},
   "source": [
    "<a id='section41'></a>\n",
    "### 7.3.2 Statistical Tests of Christoffersson's Method\n",
    "\n",
    "* Unconditional coverage null hypothesis: percentage of violation equals P\n",
    "* Independence null hypothesis: if violations are independent\n",
    "* Conditional: null of unconditional and alternative of independence"
   ]
  },
  {
   "cell_type": "code",
   "execution_count": 54,
   "metadata": {
    "scrolled": true
   },
   "outputs": [
    {
     "data": {
      "text/html": [
       "<div>\n",
       "<style scoped>\n",
       "    .dataframe tbody tr th:only-of-type {\n",
       "        vertical-align: middle;\n",
       "    }\n",
       "\n",
       "    .dataframe tbody tr th {\n",
       "        vertical-align: top;\n",
       "    }\n",
       "\n",
       "    .dataframe thead th {\n",
       "        text-align: right;\n",
       "    }\n",
       "</style>\n",
       "<table border=\"1\" class=\"dataframe\">\n",
       "  <thead>\n",
       "    <tr style=\"text-align: right;\">\n",
       "      <th></th>\n",
       "      <th>Statistic</th>\n",
       "      <th>p-value</th>\n",
       "    </tr>\n",
       "  </thead>\n",
       "  <tbody>\n",
       "    <tr>\n",
       "      <td>Unconditional</td>\n",
       "      <td>0.875573</td>\n",
       "      <td>0.349417</td>\n",
       "    </tr>\n",
       "    <tr>\n",
       "      <td>Independence</td>\n",
       "      <td>4.655202</td>\n",
       "      <td>0.030960</td>\n",
       "    </tr>\n",
       "    <tr>\n",
       "      <td>Conditional</td>\n",
       "      <td>5.530775</td>\n",
       "      <td>0.062952</td>\n",
       "    </tr>\n",
       "  </tbody>\n",
       "</table>\n",
       "</div>"
      ],
      "text/plain": [
       "               Statistic   p-value\n",
       "Unconditional   0.875573  0.349417\n",
       "Independence    4.655202  0.030960\n",
       "Conditional     5.530775  0.062952"
      ]
     },
     "execution_count": 54,
     "metadata": {},
     "output_type": "execute_result"
    }
   ],
   "source": [
    "df = bt_var.lr_bt()\n",
    "Christoffersson.iloc[2, :] = df.values.flatten()\n",
    "df"
   ]
  },
  {
   "cell_type": "markdown",
   "metadata": {},
   "source": [
    "<a id='section60'></a>\n",
    "## 7.3.3 Lopez Loss Function\n",
    "\n",
    "Lopez (1999) had suggested using an alternative method of backtesting which instead of a statistical test, evaluates a loss function to compare different methods."
   ]
  },
  {
   "cell_type": "code",
   "execution_count": 55,
   "metadata": {},
   "outputs": [
    {
     "name": "stdout",
     "output_type": "stream",
     "text": [
      "1.0001154496556004\n"
     ]
    }
   ],
   "source": [
    "vio_series = bt_var.duration_series()\n",
    "loss = 1 + (test_set2[vio_series] - mc_VaR[vio_series]) ** 2\n",
    "Lopez.loc['Monte Carlo','Mean Loss'] = np.mean(loss)\n",
    "print(np.mean(loss))"
   ]
  },
  {
   "cell_type": "code",
   "execution_count": 56,
   "metadata": {},
   "outputs": [
    {
     "data": {
      "text/plain": [
       "array([ 4, 13, 43, 20, 59, 22, 55,  3, 56,  2,  1, 37, 24,  1,  3, 10, 38,\n",
       "       10, 59, 36,  3, 36,  1,  8, 58, 46,  1, 32,  3], dtype=int64)"
      ]
     },
     "execution_count": 56,
     "metadata": {},
     "output_type": "execute_result"
    }
   ],
   "source": [
    "vio_series"
   ]
  },
  {
   "cell_type": "markdown",
   "metadata": {},
   "source": [
    "<a id='section45'></a>\n",
    "# 8.Sum Up\n",
    "\n",
    "Now, we calculated and backtested all the risk measures and the models. Here, we compare Christoffersson's tests for each one of them and we check the Lopez loss functions to see which one has produced least loss.\n",
    "\n",
    "Note: When p-value is under the defined error, the number turns red. (It means accepted)"
   ]
  },
  {
   "cell_type": "code",
   "execution_count": 57,
   "metadata": {},
   "outputs": [],
   "source": [
    "\n",
    "def inverse_color_significance(val):\n",
    "    color = 'red' if val > error else 'black'\n",
    "    return 'color: %s' % color\n",
    "\n",
    "def highlight_min(s):\n",
    "    is_min = s == s.min()\n",
    "    return ['color: red' if v else '' for v in is_min]"
   ]
  },
  {
   "cell_type": "code",
   "execution_count": 58,
   "metadata": {},
   "outputs": [
    {
     "name": "stdout",
     "output_type": "stream",
     "text": [
      "Christoffersson Tests:\n"
     ]
    },
    {
     "data": {
      "text/html": [
       "<style  type=\"text/css\" >\n",
       "    #T_658e160c_eeaa_11e9_8a67_b808cfc25b09row0_col1 {\n",
       "            color:  black;\n",
       "        }    #T_658e160c_eeaa_11e9_8a67_b808cfc25b09row0_col3 {\n",
       "            color:  red;\n",
       "        }    #T_658e160c_eeaa_11e9_8a67_b808cfc25b09row0_col5 {\n",
       "            color:  black;\n",
       "        }    #T_658e160c_eeaa_11e9_8a67_b808cfc25b09row1_col1 {\n",
       "            color:  red;\n",
       "        }    #T_658e160c_eeaa_11e9_8a67_b808cfc25b09row1_col3 {\n",
       "            color:  black;\n",
       "        }    #T_658e160c_eeaa_11e9_8a67_b808cfc25b09row1_col5 {\n",
       "            color:  black;\n",
       "        }    #T_658e160c_eeaa_11e9_8a67_b808cfc25b09row2_col1 {\n",
       "            color:  red;\n",
       "        }    #T_658e160c_eeaa_11e9_8a67_b808cfc25b09row2_col3 {\n",
       "            color:  black;\n",
       "        }    #T_658e160c_eeaa_11e9_8a67_b808cfc25b09row2_col5 {\n",
       "            color:  red;\n",
       "        }</style><table id=\"T_658e160c_eeaa_11e9_8a67_b808cfc25b09\" ><thead>    <tr>        <th class=\"blank level0\" ></th>        <th class=\"col_heading level0 col0\" colspan=2>Unconditional</th>        <th class=\"col_heading level0 col2\" colspan=2>Independence</th>        <th class=\"col_heading level0 col4\" colspan=2>Conditional</th>    </tr>    <tr>        <th class=\"blank level1\" ></th>        <th class=\"col_heading level1 col0\" >Statistic</th>        <th class=\"col_heading level1 col1\" >p-Value</th>        <th class=\"col_heading level1 col2\" >Statistic</th>        <th class=\"col_heading level1 col3\" >p-Value</th>        <th class=\"col_heading level1 col4\" >Statistic</th>        <th class=\"col_heading level1 col5\" >p-Value</th>    </tr></thead><tbody>\n",
       "                <tr>\n",
       "                        <th id=\"T_658e160c_eeaa_11e9_8a67_b808cfc25b09level0_row0\" class=\"row_heading level0 row0\" >Variational AE</th>\n",
       "                        <td id=\"T_658e160c_eeaa_11e9_8a67_b808cfc25b09row0_col0\" class=\"data row0 col0\" >7.24834</td>\n",
       "                        <td id=\"T_658e160c_eeaa_11e9_8a67_b808cfc25b09row0_col1\" class=\"data row0 col1\" >0.00709666</td>\n",
       "                        <td id=\"T_658e160c_eeaa_11e9_8a67_b808cfc25b09row0_col2\" class=\"data row0 col2\" >2.30277</td>\n",
       "                        <td id=\"T_658e160c_eeaa_11e9_8a67_b808cfc25b09row0_col3\" class=\"data row0 col3\" >0.129143</td>\n",
       "                        <td id=\"T_658e160c_eeaa_11e9_8a67_b808cfc25b09row0_col4\" class=\"data row0 col4\" >9.55111</td>\n",
       "                        <td id=\"T_658e160c_eeaa_11e9_8a67_b808cfc25b09row0_col5\" class=\"data row0 col5\" >0.00843338</td>\n",
       "            </tr>\n",
       "            <tr>\n",
       "                        <th id=\"T_658e160c_eeaa_11e9_8a67_b808cfc25b09level0_row1\" class=\"row_heading level0 row1\" >Historical Simulation</th>\n",
       "                        <td id=\"T_658e160c_eeaa_11e9_8a67_b808cfc25b09row1_col0\" class=\"data row1 col0\" >1.7513</td>\n",
       "                        <td id=\"T_658e160c_eeaa_11e9_8a67_b808cfc25b09row1_col1\" class=\"data row1 col1\" >0.185713</td>\n",
       "                        <td id=\"T_658e160c_eeaa_11e9_8a67_b808cfc25b09row1_col2\" class=\"data row1 col2\" >37.0424</td>\n",
       "                        <td id=\"T_658e160c_eeaa_11e9_8a67_b808cfc25b09row1_col3\" class=\"data row1 col3\" >1.15585e-09</td>\n",
       "                        <td id=\"T_658e160c_eeaa_11e9_8a67_b808cfc25b09row1_col4\" class=\"data row1 col4\" >38.7937</td>\n",
       "                        <td id=\"T_658e160c_eeaa_11e9_8a67_b808cfc25b09row1_col5\" class=\"data row1 col5\" >3.76743e-09</td>\n",
       "            </tr>\n",
       "            <tr>\n",
       "                        <th id=\"T_658e160c_eeaa_11e9_8a67_b808cfc25b09level0_row2\" class=\"row_heading level0 row2\" >Monte Carlo</th>\n",
       "                        <td id=\"T_658e160c_eeaa_11e9_8a67_b808cfc25b09row2_col0\" class=\"data row2 col0\" >0.875573</td>\n",
       "                        <td id=\"T_658e160c_eeaa_11e9_8a67_b808cfc25b09row2_col1\" class=\"data row2 col1\" >0.349417</td>\n",
       "                        <td id=\"T_658e160c_eeaa_11e9_8a67_b808cfc25b09row2_col2\" class=\"data row2 col2\" >4.6552</td>\n",
       "                        <td id=\"T_658e160c_eeaa_11e9_8a67_b808cfc25b09row2_col3\" class=\"data row2 col3\" >0.0309596</td>\n",
       "                        <td id=\"T_658e160c_eeaa_11e9_8a67_b808cfc25b09row2_col4\" class=\"data row2 col4\" >5.53078</td>\n",
       "                        <td id=\"T_658e160c_eeaa_11e9_8a67_b808cfc25b09row2_col5\" class=\"data row2 col5\" >0.0629517</td>\n",
       "            </tr>\n",
       "    </tbody></table>"
      ],
      "text/plain": [
       "<pandas.io.formats.style.Styler at 0x237c611c048>"
      ]
     },
     "execution_count": 58,
     "metadata": {},
     "output_type": "execute_result"
    }
   ],
   "source": [
    "print('Christoffersson Tests:')\n",
    "Christoffersson.style.applymap(inverse_color_significance, subset=[x for x in columns if x[1]=='p-Value'])"
   ]
  },
  {
   "cell_type": "code",
   "execution_count": 59,
   "metadata": {},
   "outputs": [
    {
     "name": "stdout",
     "output_type": "stream",
     "text": [
      "Lopez Loss:\n"
     ]
    },
    {
     "data": {
      "text/html": [
       "<style  type=\"text/css\" >\n",
       "    #T_6814ec62_eeaa_11e9_aa57_b808cfc25b09row0_col0 {\n",
       "            color:  red;\n",
       "        }</style><table id=\"T_6814ec62_eeaa_11e9_aa57_b808cfc25b09\" ><thead>    <tr>        <th class=\"blank level0\" ></th>        <th class=\"col_heading level0 col0\" >Mean Loss</th>    </tr></thead><tbody>\n",
       "                <tr>\n",
       "                        <th id=\"T_6814ec62_eeaa_11e9_aa57_b808cfc25b09level0_row0\" class=\"row_heading level0 row0\" >Monte Carlo</th>\n",
       "                        <td id=\"T_6814ec62_eeaa_11e9_aa57_b808cfc25b09row0_col0\" class=\"data row0 col0\" >1.00012</td>\n",
       "            </tr>\n",
       "            <tr>\n",
       "                        <th id=\"T_6814ec62_eeaa_11e9_aa57_b808cfc25b09level0_row1\" class=\"row_heading level0 row1\" >Historical Simulation</th>\n",
       "                        <td id=\"T_6814ec62_eeaa_11e9_aa57_b808cfc25b09row1_col0\" class=\"data row1 col0\" >1.00018</td>\n",
       "            </tr>\n",
       "            <tr>\n",
       "                        <th id=\"T_6814ec62_eeaa_11e9_aa57_b808cfc25b09level0_row2\" class=\"row_heading level0 row2\" >Variational AE</th>\n",
       "                        <td id=\"T_6814ec62_eeaa_11e9_aa57_b808cfc25b09row2_col0\" class=\"data row2 col0\" >nan</td>\n",
       "            </tr>\n",
       "    </tbody></table>"
      ],
      "text/plain": [
       "<pandas.io.formats.style.Styler at 0x237c611c198>"
      ]
     },
     "execution_count": 59,
     "metadata": {},
     "output_type": "execute_result"
    }
   ],
   "source": [
    "print('Lopez Loss:')\n",
    "Lopez.sort_values(by='Mean Loss', ascending=True).style.apply(highlight_min)"
   ]
  },
  {
   "cell_type": "code",
   "execution_count": null,
   "metadata": {},
   "outputs": [],
   "source": []
  },
  {
   "cell_type": "code",
   "execution_count": null,
   "metadata": {},
   "outputs": [],
   "source": []
  }
 ],
 "metadata": {
  "kernelspec": {
   "display_name": "Python 3",
   "language": "python",
   "name": "python3"
  },
  "language_info": {
   "codemirror_mode": {
    "name": "ipython",
    "version": 3
   },
   "file_extension": ".py",
   "mimetype": "text/x-python",
   "name": "python",
   "nbconvert_exporter": "python",
   "pygments_lexer": "ipython3",
   "version": "3.7.4"
  },
  "varInspector": {
   "cols": {
    "lenName": 16,
    "lenType": 16,
    "lenVar": 40
   },
   "kernels_config": {
    "python": {
     "delete_cmd_postfix": "",
     "delete_cmd_prefix": "del ",
     "library": "var_list.py",
     "varRefreshCmd": "print(var_dic_list())"
    },
    "r": {
     "delete_cmd_postfix": ") ",
     "delete_cmd_prefix": "rm(",
     "library": "var_list.r",
     "varRefreshCmd": "cat(var_dic_list()) "
    }
   },
   "types_to_exclude": [
    "module",
    "function",
    "builtin_function_or_method",
    "instance",
    "_Feature"
   ],
   "window_display": false
  }
 },
 "nbformat": 4,
 "nbformat_minor": 2
}
